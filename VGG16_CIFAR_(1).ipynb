{
  "cells": [
    {
      "cell_type": "code",
      "execution_count": null,
      "id": "a3eb82c6",
      "metadata": {
        "execution": {
          "iopub.execute_input": "2022-05-13T16:01:40.621781Z",
          "iopub.status.busy": "2022-05-13T16:01:40.621162Z",
          "iopub.status.idle": "2022-05-13T16:01:40.629003Z",
          "shell.execute_reply": "2022-05-13T16:01:40.628458Z",
          "shell.execute_reply.started": "2022-05-13T16:01:40.621702Z"
        },
        "id": "a3eb82c6"
      },
      "outputs": [],
      "source": [
        "## Hyperparmeters\n",
        "n_epochs = 25   ## number required to training \n",
        "learning_rate = 0.001\n",
        "batch_size=4"
      ]
    },
    {
      "cell_type": "code",
      "execution_count": null,
      "id": "3e90d51a",
      "metadata": {
        "execution": {
          "iopub.execute_input": "2022-05-13T16:01:40.630760Z",
          "iopub.status.busy": "2022-05-13T16:01:40.630411Z",
          "iopub.status.idle": "2022-05-13T16:01:42.289377Z",
          "shell.execute_reply": "2022-05-13T16:01:42.288623Z",
          "shell.execute_reply.started": "2022-05-13T16:01:40.630732Z"
        },
        "id": "3e90d51a"
      },
      "outputs": [],
      "source": [
        "## Libaries\n",
        "import torch, torchvision\n",
        "import torchvision.transforms as transforms\n",
        "import torch.nn as nn\n",
        "from torch import optim\n",
        "import matplotlib.pyplot as plt\n",
        "%matplotlib inline\n",
        "import copy\n",
        "import time\n",
        "from datetime import datetime\n",
        "time_date = datetime.now()\n",
        "date = time_date.strftime(\"%d/%m/%Y\")\n",
        "Time = time_date.strftime(\"%H:%M:%S\")\n",
        "import numpy as np"
      ]
    },
    {
      "cell_type": "code",
      "execution_count": null,
      "id": "ddf36773",
      "metadata": {
        "colab": {
          "base_uri": "https://localhost:8080/"
        },
        "execution": {
          "iopub.execute_input": "2022-05-13T16:01:42.290586Z",
          "iopub.status.busy": "2022-05-13T16:01:42.290401Z",
          "iopub.status.idle": "2022-05-13T16:01:44.360199Z",
          "shell.execute_reply": "2022-05-13T16:01:44.359693Z",
          "shell.execute_reply.started": "2022-05-13T16:01:42.290564Z"
        },
        "id": "ddf36773",
        "outputId": "95fc51b9-9254-463c-ab88-e6c94c992fb8"
      },
      "outputs": [
        {
          "output_type": "stream",
          "name": "stdout",
          "text": [
            "==> Preparing data..\n",
            "Files already downloaded and verified\n",
            "Files already downloaded and verified\n"
          ]
        }
      ],
      "source": [
        "### Some transformations for Googlenet Model\n",
        "# Download the Data and transformations\n",
        "print('==> Preparing data..')\n",
        "transform = transforms.Compose([\n",
        "    #transforms.Resize(256),\n",
        "    #transforms.CenterCrop(224),\n",
        "    transforms.ToTensor(),\n",
        "    transforms.Normalize((0.4914, 0.4822, 0.4465), (0.2023, 0.1994, 0.2010)),\n",
        "])\n",
        "\n",
        "\n",
        "## Downloading training data\n",
        "train_data = torchvision.datasets.CIFAR10(root='./data', train=True, download=True, transform=transform)\n",
        "trainloader = torch.utils.data.DataLoader(train_data, batch_size=4, shuffle=True, num_workers=2)\n",
        "\n",
        "## Downloading test data\n",
        "test_data = torchvision.datasets.CIFAR10(root='./data', train=False, download=True, transform=transform)\n",
        "testloader = torch.utils.data.DataLoader(test_data, batch_size=4, shuffle=False, num_workers=2)\n",
        "\n",
        "## Class labels\n",
        "classes = ('Airplane', 'Car', 'Bird', 'Cat', 'Deer', 'Dog', 'Frog', 'Horse', 'Ship', 'Truck')"
      ]
    },
    {
      "cell_type": "code",
      "execution_count": null,
      "id": "444543d9",
      "metadata": {
        "colab": {
          "base_uri": "https://localhost:8080/"
        },
        "execution": {
          "iopub.execute_input": "2022-05-13T16:01:44.361751Z",
          "iopub.status.busy": "2022-05-13T16:01:44.361217Z",
          "iopub.status.idle": "2022-05-13T16:01:48.748469Z",
          "shell.execute_reply": "2022-05-13T16:01:48.747722Z",
          "shell.execute_reply.started": "2022-05-13T16:01:44.361717Z"
        },
        "id": "444543d9",
        "outputId": "96c45435-4577-4bf8-bc17-515880d453c8"
      },
      "outputs": [
        {
          "output_type": "stream",
          "name": "stdout",
          "text": [
            "==> Building model..\n"
          ]
        },
        {
          "output_type": "stream",
          "name": "stderr",
          "text": [
            "Using cache found in /root/.cache/torch/hub/pytorch_vision_v0.6.0\n"
          ]
        }
      ],
      "source": [
        "## Model\n",
        "print('==> Building model..')\n",
        "device = torch.device(\"cuda:0\" if torch.cuda.is_available() else \"cpu\")\n",
        "net = torch.hub.load('pytorch/vision:v0.6.0', 'vgg16', pretrained=False, num_classes=10)\n",
        "net = net.to(device)"
      ]
    },
    {
      "cell_type": "code",
      "execution_count": null,
      "id": "7Y4QDSISVqf0",
      "metadata": {
        "colab": {
          "base_uri": "https://localhost:8080/"
        },
        "execution": {
          "iopub.execute_input": "2022-05-13T16:01:48.751227Z",
          "iopub.status.busy": "2022-05-13T16:01:48.751023Z",
          "iopub.status.idle": "2022-05-13T16:01:48.758460Z",
          "shell.execute_reply": "2022-05-13T16:01:48.757862Z",
          "shell.execute_reply.started": "2022-05-13T16:01:48.751203Z"
        },
        "id": "7Y4QDSISVqf0",
        "outputId": "fef7eb6c-a537-4621-e4ff-6dcc5baf874e"
      },
      "outputs": [
        {
          "output_type": "execute_result",
          "data": {
            "text/plain": [
              "VGG(\n",
              "  (features): Sequential(\n",
              "    (0): Conv2d(3, 64, kernel_size=(3, 3), stride=(1, 1), padding=(1, 1))\n",
              "    (1): ReLU(inplace=True)\n",
              "    (2): Conv2d(64, 64, kernel_size=(3, 3), stride=(1, 1), padding=(1, 1))\n",
              "    (3): ReLU(inplace=True)\n",
              "    (4): MaxPool2d(kernel_size=2, stride=2, padding=0, dilation=1, ceil_mode=False)\n",
              "    (5): Conv2d(64, 128, kernel_size=(3, 3), stride=(1, 1), padding=(1, 1))\n",
              "    (6): ReLU(inplace=True)\n",
              "    (7): Conv2d(128, 128, kernel_size=(3, 3), stride=(1, 1), padding=(1, 1))\n",
              "    (8): ReLU(inplace=True)\n",
              "    (9): MaxPool2d(kernel_size=2, stride=2, padding=0, dilation=1, ceil_mode=False)\n",
              "    (10): Conv2d(128, 256, kernel_size=(3, 3), stride=(1, 1), padding=(1, 1))\n",
              "    (11): ReLU(inplace=True)\n",
              "    (12): Conv2d(256, 256, kernel_size=(3, 3), stride=(1, 1), padding=(1, 1))\n",
              "    (13): ReLU(inplace=True)\n",
              "    (14): Conv2d(256, 256, kernel_size=(3, 3), stride=(1, 1), padding=(1, 1))\n",
              "    (15): ReLU(inplace=True)\n",
              "    (16): MaxPool2d(kernel_size=2, stride=2, padding=0, dilation=1, ceil_mode=False)\n",
              "    (17): Conv2d(256, 512, kernel_size=(3, 3), stride=(1, 1), padding=(1, 1))\n",
              "    (18): ReLU(inplace=True)\n",
              "    (19): Conv2d(512, 512, kernel_size=(3, 3), stride=(1, 1), padding=(1, 1))\n",
              "    (20): ReLU(inplace=True)\n",
              "    (21): Conv2d(512, 512, kernel_size=(3, 3), stride=(1, 1), padding=(1, 1))\n",
              "    (22): ReLU(inplace=True)\n",
              "    (23): MaxPool2d(kernel_size=2, stride=2, padding=0, dilation=1, ceil_mode=False)\n",
              "    (24): Conv2d(512, 512, kernel_size=(3, 3), stride=(1, 1), padding=(1, 1))\n",
              "    (25): ReLU(inplace=True)\n",
              "    (26): Conv2d(512, 512, kernel_size=(3, 3), stride=(1, 1), padding=(1, 1))\n",
              "    (27): ReLU(inplace=True)\n",
              "    (28): Conv2d(512, 512, kernel_size=(3, 3), stride=(1, 1), padding=(1, 1))\n",
              "    (29): ReLU(inplace=True)\n",
              "    (30): MaxPool2d(kernel_size=2, stride=2, padding=0, dilation=1, ceil_mode=False)\n",
              "  )\n",
              "  (avgpool): AdaptiveAvgPool2d(output_size=(7, 7))\n",
              "  (classifier): Sequential(\n",
              "    (0): Linear(in_features=25088, out_features=4096, bias=True)\n",
              "    (1): ReLU(inplace=True)\n",
              "    (2): Dropout(p=0.5, inplace=False)\n",
              "    (3): Linear(in_features=4096, out_features=4096, bias=True)\n",
              "    (4): ReLU(inplace=True)\n",
              "    (5): Dropout(p=0.5, inplace=False)\n",
              "    (6): Linear(in_features=4096, out_features=10, bias=True)\n",
              "  )\n",
              ")"
            ]
          },
          "metadata": {},
          "execution_count": 11
        }
      ],
      "source": [
        "net.eval()"
      ]
    },
    {
      "cell_type": "code",
      "execution_count": null,
      "id": "9f965b85",
      "metadata": {
        "colab": {
          "base_uri": "https://localhost:8080/",
          "height": 173
        },
        "execution": {
          "iopub.execute_input": "2022-05-13T16:01:48.759510Z",
          "iopub.status.busy": "2022-05-13T16:01:48.759348Z",
          "iopub.status.idle": "2022-05-13T16:01:49.467253Z",
          "shell.execute_reply": "2022-05-13T16:01:49.466227Z",
          "shell.execute_reply.started": "2022-05-13T16:01:48.759490Z"
        },
        "id": "9f965b85",
        "outputId": "d46e4b6d-6079-4252-c560-fc47becc5196"
      },
      "outputs": [
        {
          "output_type": "stream",
          "name": "stderr",
          "text": [
            "Clipping input data to the valid range for imshow with RGB data ([0..1] for floats or [0..255] for integers).\n"
          ]
        },
        {
          "output_type": "display_data",
          "data": {
            "text/plain": [
              "<Figure size 432x288 with 1 Axes>"
            ],
            "image/png": "[encoded data removed]"
          },
          "metadata": {
            "needs_background": "light"
          }
        },
        {
          "output_type": "stream",
          "name": "stdout",
          "text": [
            "Truck   Cat   Cat Airplane\n"
          ]
        }
      ],
      "source": [
        "## Some Visualizations --- Function to show some random images\n",
        "def imshow(img):\n",
        "    img = img / 2 + 0.5     # unnormalize\n",
        "    npimg = img.numpy()\n",
        "    plt.imshow(np.transpose(npimg, (1, 2, 0)))\n",
        "    plt.show()\n",
        "\n",
        "## Get some random training images\n",
        "dataiter = iter(trainloader)\n",
        "images, labels = dataiter.next()\n",
        "\n",
        "## Show images\n",
        "imshow(torchvision.utils.make_grid(images))\n",
        "## print labels\n",
        "print(' '.join('%5s' % classes[labels[j]] for j in range(4)))"
      ]
    },
    {
      "cell_type": "code",
      "execution_count": null,
      "id": "d0538ad9",
      "metadata": {
        "colab": {
          "base_uri": "https://localhost:8080/"
        },
        "execution": {
          "iopub.status.busy": "2022-05-13T16:01:49.468316Z",
          "iopub.status.idle": "2022-05-13T16:01:49.468591Z",
          "shell.execute_reply": "2022-05-13T16:01:49.468467Z",
          "shell.execute_reply.started": "2022-05-13T16:01:49.468448Z"
        },
        "id": "d0538ad9",
        "outputId": "e5e825a3-5e19-43cf-d47d-17b04cea6471"
      },
      "outputs": [
        {
          "output_type": "stream",
          "name": "stdout",
          "text": [
            "cuda:0\n"
          ]
        },
        {
          "output_type": "execute_result",
          "data": {
            "text/plain": [
              "VGG(\n",
              "  (features): Sequential(\n",
              "    (0): Conv2d(3, 64, kernel_size=(3, 3), stride=(1, 1), padding=(1, 1))\n",
              "    (1): ReLU(inplace=True)\n",
              "    (2): Conv2d(64, 64, kernel_size=(3, 3), stride=(1, 1), padding=(1, 1))\n",
              "    (3): ReLU(inplace=True)\n",
              "    (4): MaxPool2d(kernel_size=2, stride=2, padding=0, dilation=1, ceil_mode=False)\n",
              "    (5): Conv2d(64, 128, kernel_size=(3, 3), stride=(1, 1), padding=(1, 1))\n",
              "    (6): ReLU(inplace=True)\n",
              "    (7): Conv2d(128, 128, kernel_size=(3, 3), stride=(1, 1), padding=(1, 1))\n",
              "    (8): ReLU(inplace=True)\n",
              "    (9): MaxPool2d(kernel_size=2, stride=2, padding=0, dilation=1, ceil_mode=False)\n",
              "    (10): Conv2d(128, 256, kernel_size=(3, 3), stride=(1, 1), padding=(1, 1))\n",
              "    (11): ReLU(inplace=True)\n",
              "    (12): Conv2d(256, 256, kernel_size=(3, 3), stride=(1, 1), padding=(1, 1))\n",
              "    (13): ReLU(inplace=True)\n",
              "    (14): Conv2d(256, 256, kernel_size=(3, 3), stride=(1, 1), padding=(1, 1))\n",
              "    (15): ReLU(inplace=True)\n",
              "    (16): MaxPool2d(kernel_size=2, stride=2, padding=0, dilation=1, ceil_mode=False)\n",
              "    (17): Conv2d(256, 512, kernel_size=(3, 3), stride=(1, 1), padding=(1, 1))\n",
              "    (18): ReLU(inplace=True)\n",
              "    (19): Conv2d(512, 512, kernel_size=(3, 3), stride=(1, 1), padding=(1, 1))\n",
              "    (20): ReLU(inplace=True)\n",
              "    (21): Conv2d(512, 512, kernel_size=(3, 3), stride=(1, 1), padding=(1, 1))\n",
              "    (22): ReLU(inplace=True)\n",
              "    (23): MaxPool2d(kernel_size=2, stride=2, padding=0, dilation=1, ceil_mode=False)\n",
              "    (24): Conv2d(512, 512, kernel_size=(3, 3), stride=(1, 1), padding=(1, 1))\n",
              "    (25): ReLU(inplace=True)\n",
              "    (26): Conv2d(512, 512, kernel_size=(3, 3), stride=(1, 1), padding=(1, 1))\n",
              "    (27): ReLU(inplace=True)\n",
              "    (28): Conv2d(512, 512, kernel_size=(3, 3), stride=(1, 1), padding=(1, 1))\n",
              "    (29): ReLU(inplace=True)\n",
              "    (30): MaxPool2d(kernel_size=2, stride=2, padding=0, dilation=1, ceil_mode=False)\n",
              "  )\n",
              "  (avgpool): AdaptiveAvgPool2d(output_size=(7, 7))\n",
              "  (classifier): Sequential(\n",
              "    (0): Linear(in_features=25088, out_features=4096, bias=True)\n",
              "    (1): ReLU(inplace=True)\n",
              "    (2): Dropout(p=0.5, inplace=False)\n",
              "    (3): Linear(in_features=4096, out_features=4096, bias=True)\n",
              "    (4): ReLU(inplace=True)\n",
              "    (5): Dropout(p=0.5, inplace=False)\n",
              "    (6): Linear(in_features=4096, out_features=10, bias=True)\n",
              "  )\n",
              ")"
            ]
          },
          "metadata": {},
          "execution_count": 13
        }
      ],
      "source": [
        "## Instantiating CUDA device\n",
        "device = torch.device(\"cuda:0\" if torch.cuda.is_available() else \"cpu\")\n",
        "\n",
        "## Verifying CUDA\n",
        "print(device)\n",
        "\n",
        "## Move the input and AlexNet_model to GPU for speed if available\n",
        "net.to(device)"
      ]
    },
    {
      "cell_type": "code",
      "execution_count": null,
      "id": "qwoR8RE5oWOb",
      "metadata": {
        "execution": {
          "iopub.status.busy": "2022-05-13T16:01:49.470026Z",
          "iopub.status.idle": "2022-05-13T16:01:49.470282Z",
          "shell.execute_reply": "2022-05-13T16:01:49.470166Z",
          "shell.execute_reply.started": "2022-05-13T16:01:49.470153Z"
        },
        "id": "qwoR8RE5oWOb"
      },
      "outputs": [],
      "source": [
        "## Validation \n",
        "def calculate_accuracy(model, data):\n",
        "    total = 0\n",
        "    correct = 0\n",
        "    for i, (images, labels) in enumerate(data):\n",
        "        images = images.to(device)\n",
        "        x = model(images)\n",
        "        value, pred = torch.max(x,1)\n",
        "        pred = pred.data.cpu()\n",
        "        total += x.size(0)\n",
        "        correct += torch.sum(pred == labels)\n",
        "\n",
        "    return correct*100./total"
      ]
    },
    {
      "cell_type": "code",
      "execution_count": null,
      "id": "eedc475a",
      "metadata": {
        "execution": {
          "iopub.status.busy": "2022-05-13T16:01:49.471227Z",
          "iopub.status.idle": "2022-05-13T16:01:49.471475Z",
          "shell.execute_reply": "2022-05-13T16:01:49.471360Z",
          "shell.execute_reply.started": "2022-05-13T16:01:49.471347Z"
        },
        "id": "eedc475a"
      },
      "outputs": [],
      "source": [
        "## Traing and Validate in one function as MNIST has one channel\n",
        "def train():\n",
        "    print(\"---------------------------------------------------\")\n",
        "    print(\"Model Training and Testing Start date:\", date)\n",
        "    print(\"Model Training and Testing starting time:\", Time)\n",
        "    print(\"---------------------------------------------------\")\n",
        "    print('vgg16 Training and Testing Begins!')\n",
        "    criterion = nn.CrossEntropyLoss() \n",
        "    optimizer = optim.SGD(net.parameters(), lr=learning_rate, momentum=0.9)\n",
        "    max_accuracy=0\n",
        "    EPOCH = n_epochs\n",
        "    train_accuracies = []\n",
        "    validation_accuracies = []\n",
        "    \n",
        "    train_losses = []\n",
        "    validation_losses = []\n",
        "    \n",
        "    for epoch in range(EPOCH):\n",
        "        ep_start = time.time()\n",
        "        ## training loop\n",
        "        train_loss = 0\n",
        "        for i, (images,labels) in enumerate(trainloader):\n",
        "            images = images.to(device)\n",
        "            labels = labels.to(device)\n",
        "            optimizer.zero_grad()\n",
        "            outputs = net(images)\n",
        "            loss = criterion(outputs, labels)\n",
        "            loss_item = loss.item()\n",
        "            train_loss += loss_item * images.size(0)\n",
        "            loss.backward()\n",
        "            optimizer.step()\n",
        "\n",
        "\n",
        "        ## validation loop\n",
        "        valid_loss = 0.0\n",
        "        net.eval()     # Optional when not using Model Specific layer\n",
        "        for data, labels in testloader:\n",
        "            if torch.cuda.is_available():\n",
        "                data, labels = data.cuda(), labels.cuda()\n",
        "            \n",
        "            target = net(data)\n",
        "            loss = criterion(target,labels)\n",
        "            valid_loss += loss.item() * data.size(0)\n",
        "\n",
        "        train_losses.append(train_loss)  \n",
        "        validation_losses.append(valid_loss)\n",
        "\n",
        "        valid_accuracy = float(calculate_accuracy(net, testloader))\n",
        "        train_accuracy = float(calculate_accuracy(net, trainloader))\n",
        "        \n",
        "        train_accuracies.append(train_accuracy)\n",
        "        validation_accuracies.append(valid_accuracy)\n",
        "\n",
        "        Start_Time=datetime.now()\n",
        "        \n",
        "        print(f'Epoch {epoch+1} \\t\\t Train Acc: {train_accuracy} \\t\\t Training Loss: {train_loss / len(trainloader)} \\t\\t Validation Loss: {valid_loss / len(testloader)} \\t\\t validation Acc: {valid_accuracy} \\t\\t Time Duration {time.time() - ep_start}:')\n",
        "        # print(\"Epoch %d accuracy: %f loss: %f\" % (epoch, accuracy, loss_item))\n",
        "        if valid_accuracy > max_accuracy:\n",
        "            best_model = copy.deepcopy(criterion)\n",
        "            max_accuracy = valid_accuracy\n",
        "            print(\"Saving Best Model with Accuracy: \", valid_accuracy)\n",
        "        print('Epoch:', epoch+1, \"Accuracy :\", valid_accuracy, '%')\n",
        "    # plt.plot(accuracies)\n",
        "    history = {'train_losses' : [train_loss / len(trainloader) for train_loss in train_losses], 'train_accuracy' : train_accuracies, 'validation_losses' : [valid_loss / len(testloader) for valid_loss in validation_losses], 'validation_accuracy' : validation_accuracies}\n",
        "    return best_model, history\n",
        "    End_Time=datetime.now()\n",
        "    end_date = End_Time.strftime(\"%d/%m/%Y\")\n",
        "    end_time = End_Time.strftime(\"%H:%M:%S\")\n",
        "    print('vgg16 Training and Testing Completed!')\n",
        "    print(\"--------------------------------------------------\")\n",
        "    print(\"Model Training and Testing End date:\", end_date)\n",
        "    print(\"Model Training and Testing End time:\", end_time)"
      ]
    },
    {
      "cell_type": "code",
      "execution_count": null,
      "id": "c5c63135",
      "metadata": {
        "colab": {
          "base_uri": "https://localhost:8080/"
        },
        "execution": {
          "iopub.status.busy": "2022-05-13T16:01:49.472439Z",
          "iopub.status.idle": "2022-05-13T16:01:49.472697Z",
          "shell.execute_reply": "2022-05-13T16:01:49.472576Z",
          "shell.execute_reply.started": "2022-05-13T16:01:49.472563Z"
        },
        "id": "c5c63135",
        "outputId": "157a71ec-7a10-4bc2-c83b-e4a93e7043e3"
      },
      "outputs": [
        {
          "output_type": "stream",
          "name": "stdout",
          "text": [
            "---------------------------------------------------\n",
            "Model Training and Testing Start date: 13/05/2022\n",
            "Model Training and Testing starting time: 17:53:40\n",
            "---------------------------------------------------\n",
            "vgg16 Training and Testing Begins!\n",
            "Epoch 1 \t\t Train Acc: 54.76599884033203 \t\t Training Loss: 6.46553880869031 \t\t Validation Loss: 5.121821682882309 \t\t validation Acc: 53.59000015258789 \t\t Time Duration 350.28702902793884:\n",
            "Saving Best Model with Accuracy:  53.59000015258789\n",
            "Epoch: 1 Accuracy : 53.59000015258789 %\n",
            "Epoch 2 \t\t Train Acc: 63.91999816894531 \t\t Training Loss: 4.375178093433679 \t\t Validation Loss: 4.459612921097689 \t\t validation Acc: 61.650001525878906 \t\t Time Duration 349.6741955280304:\n",
            "Saving Best Model with Accuracy:  61.650001525878906\n",
            "Epoch: 2 Accuracy : 61.650001525878906 %\n",
            "Epoch 3 \t\t Train Acc: 68.75599670410156 \t\t Training Loss: 3.398715843757726 \t\t Validation Loss: 4.292967089331691 \t\t validation Acc: 65.69000244140625 \t\t Time Duration 349.47221279144287:\n",
            "Saving Best Model with Accuracy:  65.69000244140625\n",
            "Epoch: 3 Accuracy : 65.69000244140625 %\n",
            "Epoch 4 \t\t Train Acc: 81.76599884033203 \t\t Training Loss: 2.7259592529496737 \t\t Validation Loss: 2.89965114278784 \t\t validation Acc: 76.37000274658203 \t\t Time Duration 349.0209836959839:\n",
            "Saving Best Model with Accuracy:  76.37000274658203\n",
            "Epoch: 4 Accuracy : 76.37000274658203 %\n",
            "Epoch 5 \t\t Train Acc: 83.97200012207031 \t\t Training Loss: 2.272988420981042 \t\t Validation Loss: 2.840473743866291 \t\t validation Acc: 76.37999725341797 \t\t Time Duration 349.03996181488037:\n",
            "Saving Best Model with Accuracy:  76.37999725341797\n",
            "Epoch: 5 Accuracy : 76.37999725341797 %\n",
            "Epoch 6 \t\t Train Acc: 87.13200378417969 \t\t Training Loss: 1.9277253480772123 \t\t Validation Loss: 2.697126133771171 \t\t validation Acc: 78.04000091552734 \t\t Time Duration 348.9338471889496:\n",
            "Saving Best Model with Accuracy:  78.04000091552734\n",
            "Epoch: 6 Accuracy : 78.04000091552734 %\n",
            "Epoch 7 \t\t Train Acc: 90.25800323486328 \t\t Training Loss: 1.6031027208196302 \t\t Validation Loss: 2.6812965343638613 \t\t validation Acc: 78.83999633789062 \t\t Time Duration 349.7702257633209:\n",
            "Saving Best Model with Accuracy:  78.83999633789062\n",
            "Epoch: 7 Accuracy : 78.83999633789062 %\n",
            "Epoch 8 \t\t Train Acc: 92.45800018310547 \t\t Training Loss: 1.371928366904663 \t\t Validation Loss: 2.6955439746691803 \t\t validation Acc: 80.25 \t\t Time Duration 349.00404810905457:\n",
            "Saving Best Model with Accuracy:  80.25\n",
            "Epoch: 8 Accuracy : 80.25 %\n",
            "Epoch 9 \t\t Train Acc: 91.39600372314453 \t\t Training Loss: 1.165163707522293 \t\t Validation Loss: 3.0937933478143425 \t\t validation Acc: 78.9800033569336 \t\t Time Duration 349.0564384460449:\n",
            "Epoch: 9 Accuracy : 78.9800033569336 %\n",
            "Epoch 10 \t\t Train Acc: 92.35600280761719 \t\t Training Loss: 1.008090537178545 \t\t Validation Loss: 3.2959180097972554 \t\t validation Acc: 78.6500015258789 \t\t Time Duration 349.5733106136322:\n",
            "Epoch: 10 Accuracy : 78.6500015258789 %\n",
            "Epoch 11 \t\t Train Acc: 94.56800079345703 \t\t Training Loss: 0.8824105397183463 \t\t Validation Loss: 3.141024477838484 \t\t validation Acc: 79.55999755859375 \t\t Time Duration 349.06165409088135:\n",
            "Epoch: 11 Accuracy : 79.55999755859375 %\n",
            "Epoch 12 \t\t Train Acc: 95.79199981689453 \t\t Training Loss: 0.7611412425221824 \t\t Validation Loss: 2.956599756410674 \t\t validation Acc: 81.12999725341797 \t\t Time Duration 349.023663520813:\n",
            "Saving Best Model with Accuracy:  81.12999725341797\n",
            "Epoch: 12 Accuracy : 81.12999725341797 %\n",
            "Epoch 13 \t\t Train Acc: 94.97599792480469 \t\t Training Loss: 0.728060540772447 \t\t Validation Loss: 3.4477002468517255 \t\t validation Acc: 79.12000274658203 \t\t Time Duration 348.7053589820862:\n",
            "Epoch: 13 Accuracy : 79.12000274658203 %\n",
            "Epoch 14 \t\t Train Acc: 97.33000183105469 \t\t Training Loss: 0.6192268621209019 \t\t Validation Loss: 3.5617613278697333 \t\t validation Acc: 81.01000213623047 \t\t Time Duration 348.89563751220703:\n",
            "Epoch: 14 Accuracy : 81.01000213623047 %\n",
            "Epoch 15 \t\t Train Acc: 93.93399810791016 \t\t Training Loss: 0.5825357265469925 \t\t Validation Loss: 3.8324563065862414 \t\t validation Acc: 77.22000122070312 \t\t Time Duration 348.70222544670105:\n",
            "Epoch: 15 Accuracy : 77.22000122070312 %\n",
            "Epoch 16 \t\t Train Acc: 95.83000183105469 \t\t Training Loss: 0.5332149256412737 \t\t Validation Loss: 3.848431985626345 \t\t validation Acc: 78.87999725341797 \t\t Time Duration 349.29015851020813:\n",
            "Epoch: 16 Accuracy : 78.87999725341797 %\n",
            "Epoch 17 \t\t Train Acc: 98.14399719238281 \t\t Training Loss: 0.4745201967993396 \t\t Validation Loss: 3.7116850914123303 \t\t validation Acc: 81.56999969482422 \t\t Time Duration 348.6408579349518:\n",
            "Saving Best Model with Accuracy:  81.56999969482422\n",
            "Epoch: 17 Accuracy : 81.56999969482422 %\n",
            "Epoch 18 \t\t Train Acc: 96.3759994506836 \t\t Training Loss: 0.4460659403484526 \t\t Validation Loss: 4.297286311157314 \t\t validation Acc: 78.87999725341797 \t\t Time Duration 348.08180594444275:\n",
            "Epoch: 18 Accuracy : 78.87999725341797 %\n",
            "Epoch 19 \t\t Train Acc: 96.50399780273438 \t\t Training Loss: 0.42493025409279506 \t\t Validation Loss: 3.940165462853541 \t\t validation Acc: 79.73999786376953 \t\t Time Duration 347.49232006073:\n",
            "Epoch: 19 Accuracy : 79.73999786376953 %\n",
            "Epoch 20 \t\t Train Acc: 97.47000122070312 \t\t Training Loss: 0.43074797669351295 \t\t Validation Loss: 3.6502440919659103 \t\t validation Acc: 80.56999969482422 \t\t Time Duration 347.73488664627075:\n",
            "Epoch: 20 Accuracy : 80.56999969482422 %\n",
            "Epoch 21 \t\t Train Acc: 98.22200012207031 \t\t Training Loss: 0.3744969532940607 \t\t Validation Loss: 4.117615171116975 \t\t validation Acc: 81.19999694824219 \t\t Time Duration 347.4665901660919:\n",
            "Epoch: 21 Accuracy : 81.19999694824219 %\n",
            "Epoch 22 \t\t Train Acc: 98.4800033569336 \t\t Training Loss: 0.34990841966965486 \t\t Validation Loss: 4.71635275708831 \t\t validation Acc: 81.30999755859375 \t\t Time Duration 347.64255452156067:\n",
            "Epoch: 22 Accuracy : 81.30999755859375 %\n",
            "Epoch 23 \t\t Train Acc: 97.19400024414062 \t\t Training Loss: 0.4180956207804833 \t\t Validation Loss: 3.8961353421383262 \t\t validation Acc: 79.94000244140625 \t\t Time Duration 347.880083322525:\n",
            "Epoch: 23 Accuracy : 79.94000244140625 %\n",
            "Epoch 24 \t\t Train Acc: 97.11399841308594 \t\t Training Loss: 0.4102348822967508 \t\t Validation Loss: 3.7474503080336317 \t\t validation Acc: 79.62999725341797 \t\t Time Duration 348.15265917778015:\n",
            "Epoch: 24 Accuracy : 79.62999725341797 %\n",
            "Epoch 25 \t\t Train Acc: 98.74199676513672 \t\t Training Loss: 0.34212088561965104 \t\t Validation Loss: 4.631096194636291 \t\t validation Acc: 81.30000305175781 \t\t Time Duration 347.911230802536:\n",
            "Epoch: 25 Accuracy : 81.30000305175781 %\n"
          ]
        }
      ],
      "source": [
        "## Call the function to start training\n",
        "vgg, history = train()"
      ]
    },
    {
      "cell_type": "code",
      "execution_count": null,
      "id": "wdaF6DERpzyy",
      "metadata": {
        "colab": {
          "base_uri": "https://localhost:8080/",
          "height": 295
        },
        "execution": {
          "iopub.status.busy": "2022-05-13T16:01:49.473763Z",
          "iopub.status.idle": "2022-05-13T16:01:49.474020Z",
          "shell.execute_reply": "2022-05-13T16:01:49.473897Z",
          "shell.execute_reply.started": "2022-05-13T16:01:49.473884Z"
        },
        "id": "wdaF6DERpzyy",
        "outputId": "c1e241e4-27f0-4752-8648-3685ff3f7355"
      },
      "outputs": [
        {
          "output_type": "display_data",
          "data": {
            "text/plain": [
              "<Figure size 432x288 with 1 Axes>"
            ],
            "image/png": "[encoded data removed]"
          },
          "metadata": {
            "needs_background": "light"
          }
        }
      ],
      "source": [
        "#  \"Accuracy\"\n",
        "plt.plot(history['train_accuracy'])\n",
        "plt.plot(history['validation_accuracy'])\n",
        "plt.title('model accuracy')\n",
        "plt.ylabel('accuracy')\n",
        "plt.xlabel('epoch')\n",
        "plt.legend(['train', 'validation'], loc='upper left')\n",
        "plt.show()\n"
      ]
    },
    {
      "cell_type": "code",
      "execution_count": null,
      "id": "dp3bd6Qopz2T",
      "metadata": {
        "colab": {
          "base_uri": "https://localhost:8080/",
          "height": 295
        },
        "execution": {
          "iopub.status.busy": "2022-05-13T16:01:49.475058Z",
          "iopub.status.idle": "2022-05-13T16:01:49.475308Z",
          "shell.execute_reply": "2022-05-13T16:01:49.475190Z",
          "shell.execute_reply.started": "2022-05-13T16:01:49.475178Z"
        },
        "id": "dp3bd6Qopz2T",
        "outputId": "2756520d-4d07-47c8-878d-8234748a173e"
      },
      "outputs": [
        {
          "output_type": "display_data",
          "data": {
            "text/plain": [
              "<Figure size 432x288 with 1 Axes>"
            ],
            "image/png": "[encoded data removed]"
          },
          "metadata": {
            "needs_background": "light"
          }
        }
      ],
      "source": [
        "# \"Loss\"\n",
        "plt.plot(history['train_losses'])\n",
        "plt.plot(history['validation_losses'])\n",
        "plt.title('model loss')\n",
        "plt.ylabel('loss')\n",
        "plt.xlabel('epoch')\n",
        "plt.legend(['train', 'validation'], loc='upper left')\n",
        "plt.show()"
      ]
    },
    {
      "cell_type": "code",
      "execution_count": null,
      "id": "74e6581b",
      "metadata": {
        "colab": {
          "base_uri": "https://localhost:8080/"
        },
        "execution": {
          "iopub.status.busy": "2022-05-13T16:01:49.476242Z",
          "iopub.status.idle": "2022-05-13T16:01:49.476493Z",
          "shell.execute_reply": "2022-05-13T16:01:49.476376Z",
          "shell.execute_reply.started": "2022-05-13T16:01:49.476364Z"
        },
        "id": "74e6581b",
        "outputId": "ef4544e5-1d48-40fa-81dd-9a0dca0b1cf0"
      },
      "outputs": [
        {
          "output_type": "stream",
          "name": "stdout",
          "text": [
            "Accuracy of Airplane : 82 %\n",
            "Accuracy of   Car : 92 %\n",
            "Accuracy of  Bird : 73 %\n",
            "Accuracy of   Cat : 62 %\n",
            "Accuracy of  Deer : 81 %\n",
            "Accuracy of   Dog : 77 %\n",
            "Accuracy of  Frog : 82 %\n",
            "Accuracy of Horse : 84 %\n",
            "Accuracy of  Ship : 88 %\n",
            "Accuracy of Truck : 86 %\n"
          ]
        }
      ],
      "source": [
        "## Testing classification accuracy for individual classes. -- also it is useful if you want it\n",
        "class_correct = list(0. for i in range(10))\n",
        "class_total = list(0. for i in range(10))\n",
        "with torch.no_grad():\n",
        "    for data in testloader:\n",
        "        images, labels = data[0].to(device), data[1].to(device)\n",
        "        outputs = net(images)\n",
        "        _, predicted = torch.max(outputs, 1)\n",
        "        c = (predicted == labels).squeeze()\n",
        "        for i in range(4):\n",
        "            label = labels[i]\n",
        "            class_correct[label] += c[i].item()\n",
        "            class_total[label] += 1\n",
        "\n",
        "for i in range(10):\n",
        "    print('Accuracy of %5s : %2d %%' % (\n",
        "        classes[i], 100 * class_correct[i] / class_total[i]))"
      ]
    },
    {
      "cell_type": "code",
      "execution_count": null,
      "id": "727d259a",
      "metadata": {
        "id": "727d259a"
      },
      "outputs": [],
      "source": [
        ""
      ]
    }
  ],
  "metadata": {
    "accelerator": "GPU",
    "colab": {
      "collapsed_sections": [],
      "machine_shape": "hm",
      "name": "VGG16_CIFAR_(1).ipynb",
      "provenance": []
    },
    "kernelspec": {
      "display_name": "Python 3 (ipykernel)",
      "language": "python",
      "name": "python3"
    },
    "language_info": {
      "codemirror_mode": {
        "name": "ipython",
        "version": 3
      },
      "file_extension": ".py",
      "mimetype": "text/x-python",
      "name": "python",
      "nbconvert_exporter": "python",
      "pygments_lexer": "ipython3",
      "version": "3.8.12"
    }
  },
  "nbformat": 4,
  "nbformat_minor": 5
}