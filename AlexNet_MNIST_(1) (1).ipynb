{
 "cells": [
  {
   "cell_type": "code",
   "execution_count": 11,
   "id": "e048adbe",
   "metadata": {
    "execution": {
     "iopub.execute_input": "2022-05-15T13:56:57.128950Z",
     "iopub.status.busy": "2022-05-15T13:56:57.128242Z",
     "iopub.status.idle": "2022-05-15T13:56:57.132311Z",
     "shell.execute_reply": "2022-05-15T13:56:57.131736Z",
     "shell.execute_reply.started": "2022-05-15T13:56:57.128910Z"
    },
    "id": "e048adbe"
   },
   "outputs": [],
   "source": [
    "## The Hyperparametes\n",
    "EPOCH = 10                \n",
    "batch_size = 64\n",
    "LR = 0.01"
   ]
  },
  {
   "cell_type": "code",
   "execution_count": 12,
   "id": "9ef429f3",
   "metadata": {
    "execution": {
     "iopub.execute_input": "2022-05-15T13:56:57.141700Z",
     "iopub.status.busy": "2022-05-15T13:56:57.141130Z",
     "iopub.status.idle": "2022-05-15T13:56:57.154408Z",
     "shell.execute_reply": "2022-05-15T13:56:57.152331Z",
     "shell.execute_reply.started": "2022-05-15T13:56:57.141674Z"
    },
    "id": "9ef429f3"
   },
   "outputs": [],
   "source": [
    "## Libaries\n",
    "import torch, torchvision\n",
    "import torchvision.transforms as transforms\n",
    "import torch.nn as nn\n",
    "from torch import optim\n",
    "import matplotlib.pyplot as plt\n",
    "%matplotlib inline\n",
    "import copy\n",
    "import time\n",
    "from datetime import datetime\n",
    "time_date = datetime.now()\n",
    "date = time_date.strftime(\"%d/%m/%Y\")\n",
    "Time = time_date.strftime(\"%H:%M:%S\")"
   ]
  },
  {
   "cell_type": "code",
   "execution_count": 13,
   "id": "dcd0c5ce",
   "metadata": {
    "execution": {
     "iopub.execute_input": "2022-05-15T13:56:57.155314Z",
     "iopub.status.busy": "2022-05-15T13:56:57.155156Z",
     "iopub.status.idle": "2022-05-15T13:56:57.397033Z",
     "shell.execute_reply": "2022-05-15T13:56:57.396439Z",
     "shell.execute_reply.started": "2022-05-15T13:56:57.155295Z"
    },
    "id": "dcd0c5ce"
   },
   "outputs": [],
   "source": [
    "## ToTensor & Download the Dataset\n",
    "transform =  transforms.Compose([transforms.ToTensor(), transforms.Lambda(lambda x: x.repeat(3, 1, 1)), transforms.Resize(256),\n",
    "    transforms.CenterCrop(224)]) \n",
    "trainset = torchvision.datasets.MNIST(root='../data', train=True, download=True, transform=transform)\n",
    "testset = torchvision.datasets.MNIST(root='../data', train = False, transform=transform)\n",
    "\n",
    "## to DataLoader\n",
    "trainloader = torch.utils.data.DataLoader(trainset, batch_size=batch_size, shuffle=True)\n",
    "testloader = torch.utils.data.DataLoader(testset, batch_size=batch_size, shuffle=False)\n",
    "\n",
    "classes = ('0', '1', '2', '3', '4','5', '6', '7', '8', '9')"
   ]
  },
  {
   "cell_type": "code",
   "execution_count": 14,
   "id": "ec0045e8",
   "metadata": {
    "colab": {
     "base_uri": "https://localhost:8080/",
     "height": 286
    },
    "execution": {
     "iopub.execute_input": "2022-05-15T13:56:57.400596Z",
     "iopub.status.busy": "2022-05-15T13:56:57.400400Z",
     "iopub.status.idle": "2022-05-15T13:56:57.696102Z",
     "shell.execute_reply": "2022-05-15T13:56:57.695498Z",
     "shell.execute_reply.started": "2022-05-15T13:56:57.400573Z"
    },
    "id": "ec0045e8",
    "outputId": "ecd1a5ff-a980-4a36-ae85-00e347ce0d56"
   },
   "outputs": [
    {
     "name": "stdout",
     "output_type": "stream",
     "text": [
      "shape of images torch.Size([3, 224, 224])\n"
     ]
    },
    {
     "data": {
      "image/png": "[encoded data removed]",
      "text/plain": [
       "<Figure size 432x288 with 1 Axes>"
      ]
     },
     "metadata": {
      "needs_background": "light"
     },
     "output_type": "display_data"
    }
   ],
   "source": [
    "## check \n",
    "print('shape of images', trainset[0][0].shape)\n",
    "plt.imshow(trainset[4][0][0], cmap='gray');"
   ]
  },
  {
   "cell_type": "code",
   "execution_count": 15,
   "id": "7162297b",
   "metadata": {
    "execution": {
     "iopub.execute_input": "2022-05-15T13:56:57.701275Z",
     "iopub.status.busy": "2022-05-15T13:56:57.699854Z",
     "iopub.status.idle": "2022-05-15T13:56:57.724104Z",
     "shell.execute_reply": "2022-05-15T13:56:57.709719Z",
     "shell.execute_reply.started": "2022-05-15T13:56:57.701246Z"
    },
    "id": "7162297b"
   },
   "outputs": [],
   "source": [
    "## Taking the effect of CUDA\n",
    "device = torch.device('cuda' if torch.cuda.is_available() else 'cpu')"
   ]
  },
  {
   "cell_type": "code",
   "execution_count": 16,
   "id": "DLCvLgSoCC53",
   "metadata": {
    "colab": {
     "base_uri": "https://localhost:8080/"
    },
    "execution": {
     "iopub.execute_input": "2022-05-15T13:56:57.728035Z",
     "iopub.status.busy": "2022-05-15T13:56:57.727859Z",
     "iopub.status.idle": "2022-05-15T13:56:59.016450Z",
     "shell.execute_reply": "2022-05-15T13:56:59.015747Z",
     "shell.execute_reply.started": "2022-05-15T13:56:57.728014Z"
    },
    "id": "DLCvLgSoCC53",
    "outputId": "b427b28d-a26f-411b-a4d8-a736bddf8d3d"
   },
   "outputs": [
    {
     "name": "stderr",
     "output_type": "stream",
     "text": [
      "Using cache found in /root/.cache/torch/hub/pytorch_vision_v0.6.0\n"
     ]
    }
   ],
   "source": [
    "## Now using the AlexNet\n",
    "AlexNet_model = torch.hub.load('pytorch/vision:v0.6.0', 'alexnet', pretrained=False, num_classes=10)\n",
    "## Model description -- summary\n"
   ]
  },
  {
   "cell_type": "code",
   "execution_count": 17,
   "id": "fc0dddc1",
   "metadata": {
    "execution": {
     "iopub.execute_input": "2022-05-15T13:56:59.021350Z",
     "iopub.status.busy": "2022-05-15T13:56:59.020775Z",
     "iopub.status.idle": "2022-05-15T13:56:59.031392Z",
     "shell.execute_reply": "2022-05-15T13:56:59.030795Z",
     "shell.execute_reply.started": "2022-05-15T13:56:59.021325Z"
    },
    "id": "fc0dddc1"
   },
   "outputs": [],
   "source": [
    "## Validation \n",
    "def calculate_accuracy(model, data):\n",
    "    total = 0\n",
    "    correct = 0\n",
    "    for i, (images, labels) in enumerate(data):\n",
    "        images = images.to(device)\n",
    "        x = model(images)\n",
    "        value, pred = torch.max(x,1)\n",
    "        pred = pred.data.cpu()\n",
    "        total += x.size(0)\n",
    "        correct += torch.sum(pred == labels)\n",
    "\n",
    "    return correct*100./total"
   ]
  },
  {
   "cell_type": "code",
   "execution_count": 18,
   "id": "915c9450",
   "metadata": {
    "colab": {
     "base_uri": "https://localhost:8080/"
    },
    "execution": {
     "iopub.execute_input": "2022-05-15T13:56:59.035065Z",
     "iopub.status.busy": "2022-05-15T13:56:59.034527Z",
     "iopub.status.idle": "2022-05-15T13:56:59.223989Z",
     "shell.execute_reply": "2022-05-15T13:56:59.223412Z",
     "shell.execute_reply.started": "2022-05-15T13:56:59.035043Z"
    },
    "id": "915c9450",
    "outputId": "ab97b1e1-1222-40ea-e040-9abeace9edd5"
   },
   "outputs": [
    {
     "name": "stdout",
     "output_type": "stream",
     "text": [
      "cuda:0\n"
     ]
    }
   ],
   "source": [
    "## Intialize a Model\n",
    "## Instantiating CUDA device\n",
    "device = torch.device(\"cuda:0\" if torch.cuda.is_available() else \"cpu\")\n",
    "\n",
    "## Verifying CUDA\n",
    "print(device)\n",
    "\n",
    "## Move the input and AlexNet_model to GPU for speed if available\n",
    "net = AlexNet_model.to(device)"
   ]
  },
  {
   "cell_type": "code",
   "execution_count": 19,
   "id": "32c56710",
   "metadata": {
    "execution": {
     "iopub.execute_input": "2022-05-15T13:56:59.227825Z",
     "iopub.status.busy": "2022-05-15T13:56:59.227258Z",
     "iopub.status.idle": "2022-05-15T13:56:59.271301Z",
     "shell.execute_reply": "2022-05-15T13:56:59.270717Z",
     "shell.execute_reply.started": "2022-05-15T13:56:59.227801Z"
    },
    "id": "32c56710"
   },
   "outputs": [],
   "source": [
    "## Traing and Validate in one function as MNIST has one channel\n",
    "def train():\n",
    "    print(\"---------------------------------------------------\")\n",
    "    print(\"Model Training and Testing Start date:\", date)\n",
    "    print(\"Model Training and Testing starting time:\", Time)\n",
    "    print(\"---------------------------------------------------\")\n",
    "    print('Alexnet Training and Testing Begins!')\n",
    "    criterion = nn.CrossEntropyLoss() \n",
    "    optimizer = optim.SGD(net.parameters(), lr=LR, momentum=0.9)\n",
    "    max_accuracy=0\n",
    "\n",
    "    train_accuracies = []\n",
    "    validation_accuracies = []\n",
    "    \n",
    "    train_losses = []\n",
    "    validation_losses = []\n",
    "    \n",
    "    for epoch in range(EPOCH):\n",
    "        ep_start = time.time()\n",
    "        ## training loop\n",
    "        train_loss = 0\n",
    "        for i, (images,labels) in enumerate(trainloader):\n",
    "            images = images.to(device)\n",
    "            labels = labels.to(device)\n",
    "            optimizer.zero_grad()\n",
    "            outputs = net(images)\n",
    "            loss = criterion(outputs, labels)\n",
    "            loss_item = loss.item()\n",
    "            train_loss += loss_item * images.size(0)\n",
    "            loss.backward()\n",
    "            optimizer.step()\n",
    "\n",
    "\n",
    "        ## validation loop\n",
    "        valid_loss = 0.0\n",
    "        net.eval()     # Optional when not using Model Specific layer\n",
    "        for data, labels in testloader:\n",
    "            if torch.cuda.is_available():\n",
    "                data, labels = data.cuda(), labels.cuda()\n",
    "            \n",
    "            target = net(data)\n",
    "            loss = criterion(target,labels)\n",
    "            valid_loss += loss.item() * data.size(0)\n",
    "\n",
    "        train_losses.append(train_loss)  \n",
    "        validation_losses.append(valid_loss)\n",
    "\n",
    "        valid_accuracy = float(calculate_accuracy(net, testloader))\n",
    "        \n",
    "        train_accuracy = float(calculate_accuracy(net, trainloader))\n",
    "        \n",
    "        train_accuracies.append(train_accuracy)\n",
    "        validation_accuracies.append(valid_accuracy)\n",
    "        \n",
    "        Start_Time=datetime.now()\n",
    "\n",
    "        print(f'Epoch {epoch+1} \\t\\t Train Acc: {train_accuracy} \\t\\t Training Loss: {train_loss / len(trainloader)} \\t\\t Validation Loss: {valid_loss / len(testloader)} \\t\\t validation Acc: {valid_accuracy} \\t\\t Time Duration {time.time() - ep_start}:')\n",
    "        # print(\"Epoch %d accuracy: %f loss: %f\" % (epoch, accuracy, loss_item))\n",
    "        if valid_accuracy > max_accuracy:\n",
    "            best_model = copy.deepcopy(criterion)\n",
    "            max_accuracy = valid_accuracy\n",
    "            print(\"Saving Best Model with Accuracy: \", valid_accuracy)\n",
    "        print('Epoch:', epoch+1, \"Accuracy :\", valid_accuracy, '%')\n",
    "    # plt.plot(accuracies)\n",
    "    history = {'train_losses' : [train_loss / len(trainloader) for train_loss in train_losses], 'train_accuracy' : train_accuracies, 'validation_losses' : [valid_loss / len(testloader) for valid_loss in validation_losses], 'validation_accuracy' : validation_accuracies}\n",
    "    End_Time=datetime.now()\n",
    "    end_date = End_Time.strftime(\"%d/%m/%Y\")\n",
    "    end_time = End_Time.strftime(\"%H:%M:%S\")\n",
    "    print('alexnet Training and Testing Completed!')\n",
    "    print(\"--------------------------------------------------\")\n",
    "    print(\"Model Training and Testing End date:\", end_date)\n",
    "    print(\"Model Training and Testing End time:\", end_time)    \n",
    "    return best_model, history"
   ]
  },
  {
   "cell_type": "code",
   "execution_count": 20,
   "id": "86cfad58",
   "metadata": {
    "colab": {
     "base_uri": "https://localhost:8080/"
    },
    "execution": {
     "iopub.execute_input": "2022-05-15T13:56:59.275364Z",
     "iopub.status.busy": "2022-05-15T13:56:59.274413Z",
     "iopub.status.idle": "2022-05-15T15:19:23.910835Z",
     "shell.execute_reply": "2022-05-15T15:19:23.910254Z",
     "shell.execute_reply.started": "2022-05-15T13:56:59.275340Z"
    },
    "id": "86cfad58",
    "outputId": "ded6b842-03bd-4280-b2cf-5fa96eeded47"
   },
   "outputs": [
    {
     "name": "stdout",
     "output_type": "stream",
     "text": [
      "---------------------------------------------------\n",
      "Model Training and Testing Start date: 15/05/2022\n",
      "Model Training and Testing starting time: 13:56:57\n",
      "---------------------------------------------------\n",
      "Alexnet Training and Testing Begins!\n",
      "Epoch 1 \t\t Train Acc: 98.26333618164062 \t\t Training Loss: 44.7004361038269 \t\t Validation Loss: 3.081357250470597 \t\t validation Acc: 98.44999694824219 \t\t Time Duration 579.5407872200012:\n",
      "Saving Best Model with Accuracy:  98.44999694824219\n",
      "Epoch: 1 Accuracy : 98.44999694824219 %\n",
      "Epoch 2 \t\t Train Acc: 99.12833404541016 \t\t Training Loss: 3.019133588600991 \t\t Validation Loss: 1.755026454313593 \t\t validation Acc: 99.12999725341797 \t\t Time Duration 453.35075330734253:\n",
      "Saving Best Model with Accuracy:  99.12999725341797\n",
      "Epoch: 2 Accuracy : 99.12999725341797 %\n",
      "Epoch 3 \t\t Train Acc: 99.28500366210938 \t\t Training Loss: 1.8371327261257766 \t\t Validation Loss: 1.756337342623645 \t\t validation Acc: 99.18000030517578 \t\t Time Duration 471.64496326446533:\n",
      "Saving Best Model with Accuracy:  99.18000030517578\n",
      "Epoch: 3 Accuracy : 99.18000030517578 %\n",
      "Epoch 4 \t\t Train Acc: 99.37833404541016 \t\t Training Loss: 1.4093961549048095 \t\t Validation Loss: 1.816390044380285 \t\t validation Acc: 99.08000183105469 \t\t Time Duration 528.7949526309967:\n",
      "Epoch: 4 Accuracy : 99.08000183105469 %\n",
      "Epoch 5 \t\t Train Acc: 99.62999725341797 \t\t Training Loss: 0.975306865826865 \t\t Validation Loss: 1.532345097288491 \t\t validation Acc: 99.33000183105469 \t\t Time Duration 374.97800397872925:\n",
      "Saving Best Model with Accuracy:  99.33000183105469\n",
      "Epoch: 5 Accuracy : 99.33000183105469 %\n",
      "Epoch 6 \t\t Train Acc: 99.83999633789062 \t\t Training Loss: 0.7777683764236851 \t\t Validation Loss: 1.2448562324189085 \t\t validation Acc: 99.41999816894531 \t\t Time Duration 486.39947175979614:\n",
      "Saving Best Model with Accuracy:  99.41999816894531\n",
      "Epoch: 6 Accuracy : 99.41999816894531 %\n",
      "Epoch 7 \t\t Train Acc: 99.88500213623047 \t\t Training Loss: 0.5593538819938132 \t\t Validation Loss: 1.3124564605885816 \t\t validation Acc: 99.30000305175781 \t\t Time Duration 583.7698695659637:\n",
      "Epoch: 7 Accuracy : 99.30000305175781 %\n",
      "Epoch 8 \t\t Train Acc: 99.77666473388672 \t\t Training Loss: 0.41378746955293005 \t\t Validation Loss: 1.8078752748636588 \t\t validation Acc: 99.19999694824219 \t\t Time Duration 504.2314932346344:\n",
      "Epoch: 8 Accuracy : 99.19999694824219 %\n",
      "Epoch 9 \t\t Train Acc: 99.92833709716797 \t\t Training Loss: 0.39056948732203983 \t\t Validation Loss: 1.5970842384874198 \t\t validation Acc: 99.33999633789062 \t\t Time Duration 522.1772487163544:\n",
      "Epoch: 9 Accuracy : 99.33999633789062 %\n",
      "Epoch 10 \t\t Train Acc: 99.88666534423828 \t\t Training Loss: 0.3609527647289402 \t\t Validation Loss: 1.5349779365888685 \t\t validation Acc: 99.30999755859375 \t\t Time Duration 439.68345522880554:\n",
      "Epoch: 10 Accuracy : 99.30999755859375 %\n",
      "alexnet Training and Testing Completed!\n",
      "--------------------------------------------------\n",
      "Model Training and Testing End date: 15/05/2022\n",
      "Model Training and Testing End time: 15:19:23\n"
     ]
    }
   ],
   "source": [
    "## Call the function to start training\n",
    "alexnet, history = train()"
   ]
  },
  {
   "cell_type": "code",
   "execution_count": 21,
   "id": "f24c3de9",
   "metadata": {
    "colab": {
     "base_uri": "https://localhost:8080/",
     "height": 295
    },
    "execution": {
     "iopub.execute_input": "2022-05-15T15:19:23.912294Z",
     "iopub.status.busy": "2022-05-15T15:19:23.912089Z",
     "iopub.status.idle": "2022-05-15T15:19:24.222088Z",
     "shell.execute_reply": "2022-05-15T15:19:24.221500Z",
     "shell.execute_reply.started": "2022-05-15T15:19:23.912271Z"
    },
    "id": "f24c3de9",
    "outputId": "762523fe-2de5-425b-bc55-e9dee77f5a79"
   },
   "outputs": [
    {
     "data": {
      "image/png": "[encoded data removed]",
      "text/plain": [
       "<Figure size 432x288 with 1 Axes>"
      ]
     },
     "metadata": {
      "needs_background": "light"
     },
     "output_type": "display_data"
    }
   ],
   "source": [
    "#  \"Accuracy\"\n",
    "plt.plot(history['train_accuracy'])\n",
    "plt.plot(history['validation_accuracy'])\n",
    "plt.title('model accuracy')\n",
    "plt.ylabel('accuracy')\n",
    "plt.xlabel('epoch')\n",
    "plt.legend(['train', 'validation'], loc='upper left')\n",
    "plt.show()\n"
   ]
  },
  {
   "cell_type": "code",
   "execution_count": 22,
   "id": "GQCz_M_hmtiG",
   "metadata": {
    "colab": {
     "base_uri": "https://localhost:8080/",
     "height": 295
    },
    "execution": {
     "iopub.execute_input": "2022-05-15T15:19:24.223104Z",
     "iopub.status.busy": "2022-05-15T15:19:24.222929Z",
     "iopub.status.idle": "2022-05-15T15:19:24.468348Z",
     "shell.execute_reply": "2022-05-15T15:19:24.467770Z",
     "shell.execute_reply.started": "2022-05-15T15:19:24.223082Z"
    },
    "id": "GQCz_M_hmtiG",
    "outputId": "39a0e1e0-0484-43ff-de03-652d8d11b74d"
   },
   "outputs": [
    {
     "data": {
      "image/png": "[encoded data removed]",
      "text/plain": [
       "<Figure size 432x288 with 1 Axes>"
      ]
     },
     "metadata": {
      "needs_background": "light"
     },
     "output_type": "display_data"
    }
   ],
   "source": [
    "# \"Loss\"\n",
    "plt.plot(history['train_losses'])\n",
    "plt.plot(history['validation_losses'])\n",
    "plt.title('model loss')\n",
    "plt.ylabel('loss')\n",
    "plt.xlabel('epoch')\n",
    "plt.legend(['train', 'validation'], loc='upper left')\n",
    "plt.show()"
   ]
  },
  {
   "cell_type": "code",
   "execution_count": 23,
   "id": "2d128acb-5e85-4177-b11a-a79924d73db6",
   "metadata": {
    "execution": {
     "iopub.execute_input": "2022-05-15T15:42:49.107060Z",
     "iopub.status.busy": "2022-05-15T15:42:49.106505Z",
     "iopub.status.idle": "2022-05-15T15:43:32.013600Z",
     "shell.execute_reply": "2022-05-15T15:43:32.012813Z",
     "shell.execute_reply.started": "2022-05-15T15:42:49.107022Z"
    }
   },
   "outputs": [
    {
     "name": "stdout",
     "output_type": "stream",
     "text": [
      "Accuracy of     0 : 98 %\n",
      "Accuracy of     1 : 100 %\n",
      "Accuracy of     2 : 97 %\n",
      "Accuracy of     3 : 98 %\n",
      "Accuracy of     4 : 100 %\n",
      "Accuracy of     5 : 97 %\n",
      "Accuracy of     6 : 98 %\n",
      "Accuracy of     7 : 100 %\n",
      "Accuracy of     8 : 100 %\n",
      "Accuracy of     9 : 100 %\n"
     ]
    }
   ],
   "source": [
    "## Testing classification accuracy for individual classes. -- also it is useful if you want it\n",
    "class_correct = list(0. for i in range(10))\n",
    "class_total = list(0. for i in range(10))\n",
    "with torch.no_grad():\n",
    "    for data in testloader:\n",
    "        images, labels = data[0].to(device), data[1].to(device)\n",
    "        outputs = net(images)\n",
    "        _, predicted = torch.max(outputs, 1)\n",
    "        c = (predicted == labels).squeeze()\n",
    "        for i in range(4):\n",
    "            label = labels[i]\n",
    "            class_correct[label] += c[i].item()\n",
    "            class_total[label] += 1\n",
    "\n",
    "for i in range(10):\n",
    "    print('Accuracy of %5s : %2d %%' % (\n",
    "        classes[i], 100 * class_correct[i] / class_total[i]))"
   ]
  }
 ],
 "metadata": {
  "accelerator": "GPU",
  "colab": {
   "collapsed_sections": [],
   "name": "AlexNet_MNIST (1).ipynb",
   "provenance": []
  },
  "kernelspec": {
   "display_name": "Python 3 (ipykernel)",
   "language": "python",
   "name": "python3"
  },
  "language_info": {
   "codemirror_mode": {
    "name": "ipython",
    "version": 3
   },
   "file_extension": ".py",
   "mimetype": "text/x-python",
   "name": "python",
   "nbconvert_exporter": "python",
   "pygments_lexer": "ipython3",
   "version": "3.8.12"
  }
 },
 "nbformat": 4,
 "nbformat_minor": 5
}
