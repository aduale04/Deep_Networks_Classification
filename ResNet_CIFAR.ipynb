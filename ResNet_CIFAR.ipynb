{
  "cells": [
    {
      "cell_type": "code",
      "execution_count": 19,
      "id": "0df2f5e1",
      "metadata": {
        "execution": {
          "iopub.execute_input": "2022-05-15T13:57:01.242177Z",
          "iopub.status.busy": "2022-05-15T13:57:01.241311Z",
          "iopub.status.idle": "2022-05-15T13:57:01.245399Z",
          "shell.execute_reply": "2022-05-15T13:57:01.244858Z",
          "shell.execute_reply.started": "2022-05-15T13:57:01.242136Z"
        },
        "id": "0df2f5e1"
      },
      "outputs": [],
      "source": [
        "n_epochs = 25\n",
        "learning_rate = 0.001\n",
        "batch_size=64"
      ]
    },
    {
      "cell_type": "code",
      "execution_count": 20,
      "id": "06f43cca",
      "metadata": {
        "execution": {
          "iopub.execute_input": "2022-05-15T13:57:01.270464Z",
          "iopub.status.busy": "2022-05-15T13:57:01.269931Z",
          "iopub.status.idle": "2022-05-15T13:57:01.276678Z",
          "shell.execute_reply": "2022-05-15T13:57:01.276109Z",
          "shell.execute_reply.started": "2022-05-15T13:57:01.270437Z"
        },
        "id": "06f43cca"
      },
      "outputs": [],
      "source": [
        "## Libaries\n",
        "import torch, torchvision\n",
        "import torchvision.transforms as transforms\n",
        "import torch.nn as nn\n",
        "from torch import optim\n",
        "import matplotlib.pyplot as plt\n",
        "%matplotlib inline\n",
        "import copy\n",
        "import time\n",
        "from datetime import datetime\n",
        "time_date = datetime.now()\n",
        "date = time_date.strftime(\"%d/%m/%Y\")\n",
        "Time = time_date.strftime(\"%H:%M:%S\")\n",
        "import numpy as np\n"
      ]
    },
    {
      "cell_type": "code",
      "execution_count": 21,
      "id": "36be696f",
      "metadata": {
        "colab": {
          "base_uri": "https://localhost:8080/"
        },
        "execution": {
          "iopub.execute_input": "2022-05-15T13:57:01.278288Z",
          "iopub.status.busy": "2022-05-15T13:57:01.277822Z",
          "iopub.status.idle": "2022-05-15T13:57:10.418351Z",
          "shell.execute_reply": "2022-05-15T13:57:10.417646Z",
          "shell.execute_reply.started": "2022-05-15T13:57:01.278263Z"
        },
        "id": "36be696f",
        "outputId": "d41abe7f-6e8b-4523-fa9a-f4b356437b6c"
      },
      "outputs": [
        {
          "output_type": "stream",
          "name": "stdout",
          "text": [
            "==> Preparing data..\n",
            "Files already downloaded and verified\n",
            "Files already downloaded and verified\n"
          ]
        }
      ],
      "source": [
        "# Download the Data and transformations\n",
        "print('==> Preparing data..')\n",
        "\n",
        "transform = transforms.Compose([\n",
        "    #transforms.Resize(256),\n",
        "    #transforms.CenterCrop(224),\n",
        "    transforms.ToTensor(),\n",
        "    transforms.Normalize((0.4914, 0.4822, 0.4465), (0.2023, 0.1994, 0.2010)),\n",
        "])\n",
        "\n",
        "\n",
        "## Downloading training data\n",
        "train_data = torchvision.datasets.CIFAR10(root='./data', train=True, download=True, transform=transform)\n",
        "trainloader = torch.utils.data.DataLoader(train_data, batch_size=4, shuffle=True, num_workers=2)\n",
        "\n",
        "## Downloading test data\n",
        "test_data = torchvision.datasets.CIFAR10(root='./data', train=False, download=True, transform=transform)\n",
        "testloader = torch.utils.data.DataLoader(test_data, batch_size=4, shuffle=False, num_workers=2)\n",
        "\n",
        "## Class labels\n",
        "classes = ('Airplane', 'Car', 'Bird', 'Cat', 'Deer', 'Dog', 'Frog', 'Horse', 'Ship', 'Truck')"
      ]
    },
    {
      "cell_type": "code",
      "execution_count": 22,
      "id": "7bee4aac",
      "metadata": {
        "colab": {
          "base_uri": "https://localhost:8080/"
        },
        "execution": {
          "iopub.execute_input": "2022-05-15T13:57:10.422697Z",
          "iopub.status.busy": "2022-05-15T13:57:10.420663Z",
          "iopub.status.idle": "2022-05-15T13:57:12.403031Z",
          "shell.execute_reply": "2022-05-15T13:57:12.402356Z",
          "shell.execute_reply.started": "2022-05-15T13:57:10.422664Z"
        },
        "id": "7bee4aac",
        "outputId": "4d43b4b4-fb9a-44b0-b43e-8fdac8549885"
      },
      "outputs": [
        {
          "output_type": "stream",
          "name": "stdout",
          "text": [
            "==> Building model..\n"
          ]
        },
        {
          "output_type": "stream",
          "name": "stderr",
          "text": [
            "Using cache found in /root/.cache/torch/hub/pytorch_vision_v0.6.0\n"
          ]
        }
      ],
      "source": [
        "## Model\n",
        "print('==> Building model..')\n",
        "device = torch.device(\"cuda:0\" if torch.cuda.is_available() else \"cpu\")\n",
        "net = torch.hub.load('pytorch/vision:v0.6.0', 'resnet34', pretrained=False, num_classes=10)\n",
        "net = net.to(device)"
      ]
    },
    {
      "cell_type": "code",
      "execution_count": 23,
      "id": "IIEGgF6qQ2Vn",
      "metadata": {
        "colab": {
          "base_uri": "https://localhost:8080/"
        },
        "execution": {
          "iopub.execute_input": "2022-05-15T13:57:12.405436Z",
          "iopub.status.busy": "2022-05-15T13:57:12.405192Z",
          "iopub.status.idle": "2022-05-15T13:57:12.420002Z",
          "shell.execute_reply": "2022-05-15T13:57:12.419511Z",
          "shell.execute_reply.started": "2022-05-15T13:57:12.405412Z"
        },
        "id": "IIEGgF6qQ2Vn",
        "outputId": "e0c1773b-e344-4bb1-ec28-ae777239f31f"
      },
      "outputs": [
        {
          "output_type": "execute_result",
          "data": {
            "text/plain": [
              "ResNet(\n",
              "  (conv1): Conv2d(3, 64, kernel_size=(7, 7), stride=(2, 2), padding=(3, 3), bias=False)\n",
              "  (bn1): BatchNorm2d(64, eps=1e-05, momentum=0.1, affine=True, track_running_stats=True)\n",
              "  (relu): ReLU(inplace=True)\n",
              "  (maxpool): MaxPool2d(kernel_size=3, stride=2, padding=1, dilation=1, ceil_mode=False)\n",
              "  (layer1): Sequential(\n",
              "    (0): BasicBlock(\n",
              "      (conv1): Conv2d(64, 64, kernel_size=(3, 3), stride=(1, 1), padding=(1, 1), bias=False)\n",
              "      (bn1): BatchNorm2d(64, eps=1e-05, momentum=0.1, affine=True, track_running_stats=True)\n",
              "      (relu): ReLU(inplace=True)\n",
              "      (conv2): Conv2d(64, 64, kernel_size=(3, 3), stride=(1, 1), padding=(1, 1), bias=False)\n",
              "      (bn2): BatchNorm2d(64, eps=1e-05, momentum=0.1, affine=True, track_running_stats=True)\n",
              "    )\n",
              "    (1): BasicBlock(\n",
              "      (conv1): Conv2d(64, 64, kernel_size=(3, 3), stride=(1, 1), padding=(1, 1), bias=False)\n",
              "      (bn1): BatchNorm2d(64, eps=1e-05, momentum=0.1, affine=True, track_running_stats=True)\n",
              "      (relu): ReLU(inplace=True)\n",
              "      (conv2): Conv2d(64, 64, kernel_size=(3, 3), stride=(1, 1), padding=(1, 1), bias=False)\n",
              "      (bn2): BatchNorm2d(64, eps=1e-05, momentum=0.1, affine=True, track_running_stats=True)\n",
              "    )\n",
              "    (2): BasicBlock(\n",
              "      (conv1): Conv2d(64, 64, kernel_size=(3, 3), stride=(1, 1), padding=(1, 1), bias=False)\n",
              "      (bn1): BatchNorm2d(64, eps=1e-05, momentum=0.1, affine=True, track_running_stats=True)\n",
              "      (relu): ReLU(inplace=True)\n",
              "      (conv2): Conv2d(64, 64, kernel_size=(3, 3), stride=(1, 1), padding=(1, 1), bias=False)\n",
              "      (bn2): BatchNorm2d(64, eps=1e-05, momentum=0.1, affine=True, track_running_stats=True)\n",
              "    )\n",
              "  )\n",
              "  (layer2): Sequential(\n",
              "    (0): BasicBlock(\n",
              "      (conv1): Conv2d(64, 128, kernel_size=(3, 3), stride=(2, 2), padding=(1, 1), bias=False)\n",
              "      (bn1): BatchNorm2d(128, eps=1e-05, momentum=0.1, affine=True, track_running_stats=True)\n",
              "      (relu): ReLU(inplace=True)\n",
              "      (conv2): Conv2d(128, 128, kernel_size=(3, 3), stride=(1, 1), padding=(1, 1), bias=False)\n",
              "      (bn2): BatchNorm2d(128, eps=1e-05, momentum=0.1, affine=True, track_running_stats=True)\n",
              "      (downsample): Sequential(\n",
              "        (0): Conv2d(64, 128, kernel_size=(1, 1), stride=(2, 2), bias=False)\n",
              "        (1): BatchNorm2d(128, eps=1e-05, momentum=0.1, affine=True, track_running_stats=True)\n",
              "      )\n",
              "    )\n",
              "    (1): BasicBlock(\n",
              "      (conv1): Conv2d(128, 128, kernel_size=(3, 3), stride=(1, 1), padding=(1, 1), bias=False)\n",
              "      (bn1): BatchNorm2d(128, eps=1e-05, momentum=0.1, affine=True, track_running_stats=True)\n",
              "      (relu): ReLU(inplace=True)\n",
              "      (conv2): Conv2d(128, 128, kernel_size=(3, 3), stride=(1, 1), padding=(1, 1), bias=False)\n",
              "      (bn2): BatchNorm2d(128, eps=1e-05, momentum=0.1, affine=True, track_running_stats=True)\n",
              "    )\n",
              "    (2): BasicBlock(\n",
              "      (conv1): Conv2d(128, 128, kernel_size=(3, 3), stride=(1, 1), padding=(1, 1), bias=False)\n",
              "      (bn1): BatchNorm2d(128, eps=1e-05, momentum=0.1, affine=True, track_running_stats=True)\n",
              "      (relu): ReLU(inplace=True)\n",
              "      (conv2): Conv2d(128, 128, kernel_size=(3, 3), stride=(1, 1), padding=(1, 1), bias=False)\n",
              "      (bn2): BatchNorm2d(128, eps=1e-05, momentum=0.1, affine=True, track_running_stats=True)\n",
              "    )\n",
              "    (3): BasicBlock(\n",
              "      (conv1): Conv2d(128, 128, kernel_size=(3, 3), stride=(1, 1), padding=(1, 1), bias=False)\n",
              "      (bn1): BatchNorm2d(128, eps=1e-05, momentum=0.1, affine=True, track_running_stats=True)\n",
              "      (relu): ReLU(inplace=True)\n",
              "      (conv2): Conv2d(128, 128, kernel_size=(3, 3), stride=(1, 1), padding=(1, 1), bias=False)\n",
              "      (bn2): BatchNorm2d(128, eps=1e-05, momentum=0.1, affine=True, track_running_stats=True)\n",
              "    )\n",
              "  )\n",
              "  (layer3): Sequential(\n",
              "    (0): BasicBlock(\n",
              "      (conv1): Conv2d(128, 256, kernel_size=(3, 3), stride=(2, 2), padding=(1, 1), bias=False)\n",
              "      (bn1): BatchNorm2d(256, eps=1e-05, momentum=0.1, affine=True, track_running_stats=True)\n",
              "      (relu): ReLU(inplace=True)\n",
              "      (conv2): Conv2d(256, 256, kernel_size=(3, 3), stride=(1, 1), padding=(1, 1), bias=False)\n",
              "      (bn2): BatchNorm2d(256, eps=1e-05, momentum=0.1, affine=True, track_running_stats=True)\n",
              "      (downsample): Sequential(\n",
              "        (0): Conv2d(128, 256, kernel_size=(1, 1), stride=(2, 2), bias=False)\n",
              "        (1): BatchNorm2d(256, eps=1e-05, momentum=0.1, affine=True, track_running_stats=True)\n",
              "      )\n",
              "    )\n",
              "    (1): BasicBlock(\n",
              "      (conv1): Conv2d(256, 256, kernel_size=(3, 3), stride=(1, 1), padding=(1, 1), bias=False)\n",
              "      (bn1): BatchNorm2d(256, eps=1e-05, momentum=0.1, affine=True, track_running_stats=True)\n",
              "      (relu): ReLU(inplace=True)\n",
              "      (conv2): Conv2d(256, 256, kernel_size=(3, 3), stride=(1, 1), padding=(1, 1), bias=False)\n",
              "      (bn2): BatchNorm2d(256, eps=1e-05, momentum=0.1, affine=True, track_running_stats=True)\n",
              "    )\n",
              "    (2): BasicBlock(\n",
              "      (conv1): Conv2d(256, 256, kernel_size=(3, 3), stride=(1, 1), padding=(1, 1), bias=False)\n",
              "      (bn1): BatchNorm2d(256, eps=1e-05, momentum=0.1, affine=True, track_running_stats=True)\n",
              "      (relu): ReLU(inplace=True)\n",
              "      (conv2): Conv2d(256, 256, kernel_size=(3, 3), stride=(1, 1), padding=(1, 1), bias=False)\n",
              "      (bn2): BatchNorm2d(256, eps=1e-05, momentum=0.1, affine=True, track_running_stats=True)\n",
              "    )\n",
              "    (3): BasicBlock(\n",
              "      (conv1): Conv2d(256, 256, kernel_size=(3, 3), stride=(1, 1), padding=(1, 1), bias=False)\n",
              "      (bn1): BatchNorm2d(256, eps=1e-05, momentum=0.1, affine=True, track_running_stats=True)\n",
              "      (relu): ReLU(inplace=True)\n",
              "      (conv2): Conv2d(256, 256, kernel_size=(3, 3), stride=(1, 1), padding=(1, 1), bias=False)\n",
              "      (bn2): BatchNorm2d(256, eps=1e-05, momentum=0.1, affine=True, track_running_stats=True)\n",
              "    )\n",
              "    (4): BasicBlock(\n",
              "      (conv1): Conv2d(256, 256, kernel_size=(3, 3), stride=(1, 1), padding=(1, 1), bias=False)\n",
              "      (bn1): BatchNorm2d(256, eps=1e-05, momentum=0.1, affine=True, track_running_stats=True)\n",
              "      (relu): ReLU(inplace=True)\n",
              "      (conv2): Conv2d(256, 256, kernel_size=(3, 3), stride=(1, 1), padding=(1, 1), bias=False)\n",
              "      (bn2): BatchNorm2d(256, eps=1e-05, momentum=0.1, affine=True, track_running_stats=True)\n",
              "    )\n",
              "    (5): BasicBlock(\n",
              "      (conv1): Conv2d(256, 256, kernel_size=(3, 3), stride=(1, 1), padding=(1, 1), bias=False)\n",
              "      (bn1): BatchNorm2d(256, eps=1e-05, momentum=0.1, affine=True, track_running_stats=True)\n",
              "      (relu): ReLU(inplace=True)\n",
              "      (conv2): Conv2d(256, 256, kernel_size=(3, 3), stride=(1, 1), padding=(1, 1), bias=False)\n",
              "      (bn2): BatchNorm2d(256, eps=1e-05, momentum=0.1, affine=True, track_running_stats=True)\n",
              "    )\n",
              "  )\n",
              "  (layer4): Sequential(\n",
              "    (0): BasicBlock(\n",
              "      (conv1): Conv2d(256, 512, kernel_size=(3, 3), stride=(2, 2), padding=(1, 1), bias=False)\n",
              "      (bn1): BatchNorm2d(512, eps=1e-05, momentum=0.1, affine=True, track_running_stats=True)\n",
              "      (relu): ReLU(inplace=True)\n",
              "      (conv2): Conv2d(512, 512, kernel_size=(3, 3), stride=(1, 1), padding=(1, 1), bias=False)\n",
              "      (bn2): BatchNorm2d(512, eps=1e-05, momentum=0.1, affine=True, track_running_stats=True)\n",
              "      (downsample): Sequential(\n",
              "        (0): Conv2d(256, 512, kernel_size=(1, 1), stride=(2, 2), bias=False)\n",
              "        (1): BatchNorm2d(512, eps=1e-05, momentum=0.1, affine=True, track_running_stats=True)\n",
              "      )\n",
              "    )\n",
              "    (1): BasicBlock(\n",
              "      (conv1): Conv2d(512, 512, kernel_size=(3, 3), stride=(1, 1), padding=(1, 1), bias=False)\n",
              "      (bn1): BatchNorm2d(512, eps=1e-05, momentum=0.1, affine=True, track_running_stats=True)\n",
              "      (relu): ReLU(inplace=True)\n",
              "      (conv2): Conv2d(512, 512, kernel_size=(3, 3), stride=(1, 1), padding=(1, 1), bias=False)\n",
              "      (bn2): BatchNorm2d(512, eps=1e-05, momentum=0.1, affine=True, track_running_stats=True)\n",
              "    )\n",
              "    (2): BasicBlock(\n",
              "      (conv1): Conv2d(512, 512, kernel_size=(3, 3), stride=(1, 1), padding=(1, 1), bias=False)\n",
              "      (bn1): BatchNorm2d(512, eps=1e-05, momentum=0.1, affine=True, track_running_stats=True)\n",
              "      (relu): ReLU(inplace=True)\n",
              "      (conv2): Conv2d(512, 512, kernel_size=(3, 3), stride=(1, 1), padding=(1, 1), bias=False)\n",
              "      (bn2): BatchNorm2d(512, eps=1e-05, momentum=0.1, affine=True, track_running_stats=True)\n",
              "    )\n",
              "  )\n",
              "  (avgpool): AdaptiveAvgPool2d(output_size=(1, 1))\n",
              "  (fc): Linear(in_features=512, out_features=10, bias=True)\n",
              ")"
            ]
          },
          "metadata": {},
          "execution_count": 23
        }
      ],
      "source": [
        "net.eval()"
      ]
    },
    {
      "cell_type": "code",
      "execution_count": 24,
      "id": "9FFIASjSP_cd",
      "metadata": {
        "execution": {
          "iopub.execute_input": "2022-05-15T13:57:12.424696Z",
          "iopub.status.busy": "2022-05-15T13:57:12.421848Z",
          "iopub.status.idle": "2022-05-15T13:57:12.432046Z",
          "shell.execute_reply": "2022-05-15T13:57:12.431513Z",
          "shell.execute_reply.started": "2022-05-15T13:57:12.424669Z"
        },
        "id": "9FFIASjSP_cd"
      },
      "outputs": [],
      "source": [
        "## Loss\n",
        "criterion = nn.CrossEntropyLoss()\n",
        "\n",
        "## Optimizer using (SGD)\n",
        "optimizer = optim.SGD(net.parameters(), lr=learning_rate, momentum=0.9)"
      ]
    },
    {
      "cell_type": "code",
      "execution_count": 25,
      "id": "495310a7",
      "metadata": {
        "execution": {
          "iopub.execute_input": "2022-05-15T13:57:12.433211Z",
          "iopub.status.busy": "2022-05-15T13:57:12.433044Z",
          "iopub.status.idle": "2022-05-15T13:57:12.442545Z",
          "shell.execute_reply": "2022-05-15T13:57:12.442018Z",
          "shell.execute_reply.started": "2022-05-15T13:57:12.433192Z"
        },
        "id": "495310a7"
      },
      "outputs": [],
      "source": [
        "\n",
        "## Validation \n",
        "def calculate_accuracy(model, data):\n",
        "    total = 0\n",
        "    correct = 0\n",
        "    for i, (images, labels) in enumerate(data):\n",
        "        images = images.to(device)\n",
        "        x = model(images)\n",
        "        value, pred = torch.max(x,1)\n",
        "        pred = pred.data.cpu()\n",
        "        total += x.size(0)\n",
        "        correct += torch.sum(pred == labels)\n",
        "\n",
        "    return correct*100./total"
      ]
    },
    {
      "cell_type": "code",
      "execution_count": 26,
      "id": "41399b42",
      "metadata": {
        "execution": {
          "iopub.execute_input": "2022-05-15T13:57:12.445239Z",
          "iopub.status.busy": "2022-05-15T13:57:12.443691Z",
          "iopub.status.idle": "2022-05-15T13:57:12.488884Z",
          "shell.execute_reply": "2022-05-15T13:57:12.488315Z",
          "shell.execute_reply.started": "2022-05-15T13:57:12.445214Z"
        },
        "id": "41399b42"
      },
      "outputs": [],
      "source": [
        "def train():\n",
        "    print(\"---------------------------------------------------\")\n",
        "    print(\"Model Training and Testing Start date:\", date)\n",
        "    print(\"Model Training and Testing starting time:\", Time)\n",
        "    print(\"---------------------------------------------------\")\n",
        "    print('Resnet Training and Testing Begins!')\n",
        "    criterion = nn.CrossEntropyLoss() \n",
        "    optimizer = optim.SGD(net.parameters(), lr=learning_rate, momentum=0.9)\n",
        "    max_accuracy=0\n",
        "    EPOCH = n_epochs\n",
        "    train_accuracies = []\n",
        "    validation_accuracies = []\n",
        "    \n",
        "    train_losses = []\n",
        "    validation_losses = []\n",
        "    \n",
        "    for epoch in range(EPOCH):\n",
        "        ep_start = time.time()\n",
        "        ## training loop\n",
        "        train_loss = 0\n",
        "        for i, (images,labels) in enumerate(trainloader):\n",
        "            images = images.to(device)\n",
        "            labels = labels.to(device)\n",
        "            optimizer.zero_grad()\n",
        "            outputs = net(images)\n",
        "            loss = criterion(outputs, labels)\n",
        "            loss_item = loss.item()\n",
        "            train_loss += loss_item * images.size(0)\n",
        "            loss.backward()\n",
        "            optimizer.step()\n",
        "\n",
        "\n",
        "        ## validation loop\n",
        "        valid_loss = 0.0\n",
        "        net.eval()     # Optional when not using Model Specific layer\n",
        "        for data, labels in testloader:\n",
        "            if torch.cuda.is_available():\n",
        "                data, labels = data.cuda(), labels.cuda()\n",
        "            \n",
        "            target = net(data)\n",
        "            loss = criterion(target,labels)\n",
        "            valid_loss += loss.item() * data.size(0)\n",
        "\n",
        "        train_losses.append(train_loss)  \n",
        "        validation_losses.append(valid_loss)\n",
        "\n",
        "        valid_accuracy = float(calculate_accuracy(net, testloader))\n",
        "        train_accuracy = float(calculate_accuracy(net, trainloader))\n",
        "        \n",
        "        train_accuracies.append(train_accuracy)\n",
        "        validation_accuracies.append(valid_accuracy)\n",
        "\n",
        "        Start_Time=datetime.now()\n",
        "        \n",
        "        print(f'Epoch {epoch+1} \\t\\t Train Acc: {train_accuracy} \\t\\t Training Loss: {train_loss / len(trainloader)} \\t\\t Validation Loss: {valid_loss / len(testloader)} \\t\\t validation Acc: {valid_accuracy} \\t\\t Time Duration {time.time() - ep_start}:')\n",
        "        # print(\"Epoch %d accuracy: %f loss: %f\" % (epoch, accuracy, loss_item))\n",
        "        if valid_accuracy > max_accuracy:\n",
        "            best_model = copy.deepcopy(criterion)\n",
        "            max_accuracy = valid_accuracy\n",
        "            print(\"Saving Best Model with Accuracy: \", valid_accuracy)\n",
        "        print('Epoch:', epoch+1, \"Accuracy :\", valid_accuracy, '%')\n",
        "    # plt.plot(accuracies)\n",
        "    history = {'train_losses' : [train_loss / len(trainloader) for train_loss in train_losses], 'train_accuracy' : train_accuracies, 'validation_losses' : [valid_loss / len(testloader) for valid_loss in validation_losses], 'validation_accuracy' : validation_accuracies}\n",
        "    End_Time=datetime.now()\n",
        "    end_date = End_Time.strftime(\"%d/%m/%Y\")\n",
        "    end_time = End_Time.strftime(\"%H:%M:%S\")\n",
        "    print(\"--------------------------------------------------\")\n",
        "    print('resnet Training and Testing Completed!')\n",
        "    \n",
        "    print(\"Model Training and Testing End date:\", end_date)\n",
        "    print(\"Model Training and Testing End time:\", end_time)\n",
        "    return best_model, history\n",
        "    \n"
      ]
    },
    {
      "cell_type": "code",
      "execution_count": 27,
      "id": "1d8761c9",
      "metadata": {
        "execution": {
          "iopub.execute_input": "2022-05-15T13:57:12.491702Z",
          "iopub.status.busy": "2022-05-15T13:57:12.489952Z",
          "iopub.status.idle": "2022-05-15T15:30:10.081364Z",
          "shell.execute_reply": "2022-05-15T15:30:10.080265Z",
          "shell.execute_reply.started": "2022-05-15T13:57:12.491675Z"
        },
        "id": "1d8761c9",
        "colab": {
          "base_uri": "https://localhost:8080/"
        },
        "outputId": "bf8d340e-d956-4350-af24-d3e274f9cdfb"
      },
      "outputs": [
        {
          "output_type": "stream",
          "name": "stdout",
          "text": [
            "---------------------------------------------------\n",
            "Model Training and Testing Start date: 15/05/2022\n",
            "Model Training and Testing starting time: 15:50:34\n",
            "---------------------------------------------------\n",
            "Resnet Training and Testing Begins!\n",
            "Epoch 1 \t\t Train Acc: 52.45600128173828 \t\t Training Loss: 6.546765527338982 \t\t Validation Loss: 5.4620600284337995 \t\t validation Acc: 49.9900016784668 \t\t Time Duration 507.46306562423706:\n",
            "Saving Best Model with Accuracy:  49.9900016784668\n",
            "Epoch: 1 Accuracy : 49.9900016784668 %\n",
            "Epoch 2 \t\t Train Acc: 61.96799850463867 \t\t Training Loss: 4.998058710627556 \t\t Validation Loss: 4.651829170703888 \t\t validation Acc: 59.22999954223633 \t\t Time Duration 504.5560095310211:\n",
            "Saving Best Model with Accuracy:  59.22999954223633\n",
            "Epoch: 2 Accuracy : 59.22999954223633 %\n",
            "Epoch 3 \t\t Train Acc: 68.25199890136719 \t\t Training Loss: 4.1462789079889655 \t\t Validation Loss: 4.235859128388762 \t\t validation Acc: 63.58000183105469 \t\t Time Duration 504.97325563430786:\n",
            "Saving Best Model with Accuracy:  63.58000183105469\n",
            "Epoch: 3 Accuracy : 63.58000183105469 %\n",
            "Epoch 4 \t\t Train Acc: 73.5999984741211 \t\t Training Loss: 3.5563477964058516 \t\t Validation Loss: 3.8627327368751168 \t\t validation Acc: 66.5999984741211 \t\t Time Duration 505.33073711395264:\n",
            "Saving Best Model with Accuracy:  66.5999984741211\n",
            "Epoch: 4 Accuracy : 66.5999984741211 %\n",
            "Epoch 5 \t\t Train Acc: 78.26000213623047 \t\t Training Loss: 3.0521468187813645 \t\t Validation Loss: 3.715293753962219 \t\t validation Acc: 68.36000061035156 \t\t Time Duration 503.1946098804474:\n",
            "Saving Best Model with Accuracy:  68.36000061035156\n",
            "Epoch: 5 Accuracy : 68.36000061035156 %\n",
            "Epoch 6 \t\t Train Acc: 81.69599914550781 \t\t Training Loss: 2.6285757774187437 \t\t Validation Loss: 3.60310802285932 \t\t validation Acc: 69.4000015258789 \t\t Time Duration 502.4318108558655:\n",
            "Saving Best Model with Accuracy:  69.4000015258789\n",
            "Epoch: 6 Accuracy : 69.4000015258789 %\n",
            "Epoch 7 \t\t Train Acc: 84.60600280761719 \t\t Training Loss: 2.2603482339770764 \t\t Validation Loss: 3.7283593105211854 \t\t validation Acc: 69.8499984741211 \t\t Time Duration 505.05174016952515:\n",
            "Saving Best Model with Accuracy:  69.8499984741211\n",
            "Epoch: 7 Accuracy : 69.8499984741211 %\n",
            "Epoch 8 \t\t Train Acc: 86.91200256347656 \t\t Training Loss: 1.9555648975488498 \t\t Validation Loss: 3.849948018387705 \t\t validation Acc: 69.6500015258789 \t\t Time Duration 505.200644493103:\n",
            "Epoch: 8 Accuracy : 69.6500015258789 %\n",
            "Epoch 9 \t\t Train Acc: 89.12000274658203 \t\t Training Loss: 1.6679027917729314 \t\t Validation Loss: 3.9842260547006503 \t\t validation Acc: 69.5999984741211 \t\t Time Duration 504.12954545021057:\n",
            "Epoch: 9 Accuracy : 69.5999984741211 %\n",
            "Epoch 10 \t\t Train Acc: 90.89199829101562 \t\t Training Loss: 1.4135344305818742 \t\t Validation Loss: 4.120304925751407 \t\t validation Acc: 69.94000244140625 \t\t Time Duration 501.1619691848755:\n",
            "Saving Best Model with Accuracy:  69.94000244140625\n",
            "Epoch: 10 Accuracy : 69.94000244140625 %\n",
            "Epoch 11 \t\t Train Acc: 92.50399780273438 \t\t Training Loss: 1.2348101240565006 \t\t Validation Loss: 4.383474075092666 \t\t validation Acc: 70.44000244140625 \t\t Time Duration 499.53803634643555:\n",
            "Saving Best Model with Accuracy:  70.44000244140625\n",
            "Epoch: 11 Accuracy : 70.44000244140625 %\n",
            "Epoch 12 \t\t Train Acc: 92.8219985961914 \t\t Training Loss: 1.0613778846886712 \t\t Validation Loss: 4.6018555006381705 \t\t validation Acc: 69.3499984741211 \t\t Time Duration 507.2988221645355:\n",
            "Epoch: 12 Accuracy : 69.3499984741211 %\n",
            "Epoch 13 \t\t Train Acc: 93.95800018310547 \t\t Training Loss: 0.889160847201056 \t\t Validation Loss: 4.646365601319517 \t\t validation Acc: 70.05999755859375 \t\t Time Duration 506.3023772239685:\n",
            "Epoch: 13 Accuracy : 70.05999755859375 %\n",
            "Epoch 14 \t\t Train Acc: 95.33999633789062 \t\t Training Loss: 0.7565927555133235 \t\t Validation Loss: 4.869526344014545 \t\t validation Acc: 70.19000244140625 \t\t Time Duration 506.0825746059418:\n",
            "Epoch: 14 Accuracy : 70.19000244140625 %\n",
            "Epoch 15 \t\t Train Acc: 96.10600280761719 \t\t Training Loss: 0.6756748680384932 \t\t Validation Loss: 5.238445691655096 \t\t validation Acc: 70.7300033569336 \t\t Time Duration 506.23439359664917:\n",
            "Saving Best Model with Accuracy:  70.7300033569336\n",
            "Epoch: 15 Accuracy : 70.7300033569336 %\n",
            "Epoch 16 \t\t Train Acc: 96.90399932861328 \t\t Training Loss: 0.6051493068317986 \t\t Validation Loss: 5.337221315572325 \t\t validation Acc: 70.97000122070312 \t\t Time Duration 506.5480170249939:\n",
            "Saving Best Model with Accuracy:  70.97000122070312\n",
            "Epoch: 16 Accuracy : 70.97000122070312 %\n",
            "Epoch 17 \t\t Train Acc: 97.24199676513672 \t\t Training Loss: 0.4971613863204466 \t\t Validation Loss: 5.548886105259235 \t\t validation Acc: 70.9800033569336 \t\t Time Duration 504.2011535167694:\n",
            "Saving Best Model with Accuracy:  70.9800033569336\n",
            "Epoch: 17 Accuracy : 70.9800033569336 %\n",
            "Epoch 18 \t\t Train Acc: 97.23200225830078 \t\t Training Loss: 0.45643731262629333 \t\t Validation Loss: 5.841225947517336 \t\t validation Acc: 70.47000122070312 \t\t Time Duration 507.8645749092102:\n",
            "Epoch: 18 Accuracy : 70.47000122070312 %\n",
            "Epoch 19 \t\t Train Acc: 97.36599731445312 \t\t Training Loss: 0.4345595170645557 \t\t Validation Loss: 5.761065345399901 \t\t validation Acc: 70.69999694824219 \t\t Time Duration 507.73210310935974:\n",
            "Epoch: 19 Accuracy : 70.69999694824219 %\n",
            "Epoch 20 \t\t Train Acc: 98.14199829101562 \t\t Training Loss: 0.368973293650437 \t\t Validation Loss: 6.045822120920489 \t\t validation Acc: 70.79000091552734 \t\t Time Duration 504.95108580589294:\n",
            "Epoch: 20 Accuracy : 70.79000091552734 %\n",
            "Epoch 21 \t\t Train Acc: 97.06800079345703 \t\t Training Loss: 0.32914212334805626 \t\t Validation Loss: 5.944217917586504 \t\t validation Acc: 70.08999633789062 \t\t Time Duration 503.91283416748047:\n",
            "Epoch: 21 Accuracy : 70.08999633789062 %\n",
            "Epoch 22 \t\t Train Acc: 98.16799926757812 \t\t Training Loss: 0.3106088429485635 \t\t Validation Loss: 6.288377434028334 \t\t validation Acc: 71.08999633789062 \t\t Time Duration 502.42732882499695:\n",
            "Saving Best Model with Accuracy:  71.08999633789062\n",
            "Epoch: 22 Accuracy : 71.08999633789062 %\n",
            "Epoch 23 \t\t Train Acc: 98.40599822998047 \t\t Training Loss: 0.24684301709813952 \t\t Validation Loss: 6.637826604448638 \t\t validation Acc: 71.19999694824219 \t\t Time Duration 501.355952501297:\n",
            "Saving Best Model with Accuracy:  71.19999694824219\n",
            "Epoch: 23 Accuracy : 71.19999694824219 %\n",
            "Epoch 24 \t\t Train Acc: 97.88600158691406 \t\t Training Loss: 0.26798308537648463 \t\t Validation Loss: 6.325577675896788 \t\t validation Acc: 70.69999694824219 \t\t Time Duration 503.79278922080994:\n",
            "Epoch: 24 Accuracy : 70.69999694824219 %\n",
            "Epoch 25 \t\t Train Acc: 98.71199798583984 \t\t Training Loss: 0.26570511370661365 \t\t Validation Loss: 6.034144364004876 \t\t validation Acc: 71.0199966430664 \t\t Time Duration 501.3408806324005:\n",
            "Epoch: 25 Accuracy : 71.0199966430664 %\n",
            "--------------------------------------------------\n",
            "resnet Training and Testing Completed!\n",
            "Model Training and Testing End date: 15/05/2022\n",
            "Model Training and Testing End time: 19:20:50\n"
          ]
        }
      ],
      "source": [
        "resnet, history = train()"
      ]
    },
    {
      "cell_type": "code",
      "execution_count": 28,
      "id": "WVpRVNqRQnmF",
      "metadata": {
        "execution": {
          "iopub.status.busy": "2022-05-15T15:30:10.082322Z",
          "iopub.status.idle": "2022-05-15T15:30:10.082584Z",
          "shell.execute_reply": "2022-05-15T15:30:10.082463Z",
          "shell.execute_reply.started": "2022-05-15T15:30:10.082448Z"
        },
        "id": "WVpRVNqRQnmF",
        "colab": {
          "base_uri": "https://localhost:8080/",
          "height": 295
        },
        "outputId": "4beb6903-f2c2-4e22-b06f-13f99e666834"
      },
      "outputs": [
        {
          "output_type": "display_data",
          "data": {
            "text/plain": [
              "<Figure size 432x288 with 1 Axes>"
            ],
            "image/png": "[encoded data removed]"
          },
          "metadata": {
            "needs_background": "light"
          }
        }
      ],
      "source": [
        "#  \"Accuracy\"\n",
        "plt.plot(history['train_accuracy'])\n",
        "plt.plot(history['validation_accuracy'])\n",
        "plt.title('model accuracy')\n",
        "plt.ylabel('accuracy')\n",
        "plt.xlabel('epoch')\n",
        "plt.legend(['train', 'validation'], loc='upper left')\n",
        "plt.show()"
      ]
    },
    {
      "cell_type": "code",
      "execution_count": 29,
      "id": "MQdl9KjcQoOU",
      "metadata": {
        "execution": {
          "iopub.status.busy": "2022-05-15T15:30:10.084068Z",
          "iopub.status.idle": "2022-05-15T15:30:10.084641Z",
          "shell.execute_reply": "2022-05-15T15:30:10.084494Z",
          "shell.execute_reply.started": "2022-05-15T15:30:10.084475Z"
        },
        "id": "MQdl9KjcQoOU",
        "colab": {
          "base_uri": "https://localhost:8080/",
          "height": 295
        },
        "outputId": "e131a23a-e27a-48d9-aa60-942727797f56"
      },
      "outputs": [
        {
          "output_type": "display_data",
          "data": {
            "text/plain": [
              "<Figure size 432x288 with 1 Axes>"
            ],
            "image/png": "[encoded data removed]"
          },
          "metadata": {
            "needs_background": "light"
          }
        }
      ],
      "source": [
        "# \"Loss\"\n",
        "plt.plot(history['train_losses'])\n",
        "plt.plot(history['validation_losses'])\n",
        "plt.title('model loss')\n",
        "plt.ylabel('loss')\n",
        "plt.xlabel('epoch')\n",
        "plt.legend(['train', 'validation'], loc='upper left')\n",
        "plt.show()"
      ]
    },
    {
      "cell_type": "code",
      "execution_count": 30,
      "id": "799dYjAvQt_q",
      "metadata": {
        "execution": {
          "iopub.status.busy": "2022-05-15T15:30:10.085432Z",
          "iopub.status.idle": "2022-05-15T15:30:10.085954Z",
          "shell.execute_reply": "2022-05-15T15:30:10.085816Z",
          "shell.execute_reply.started": "2022-05-15T15:30:10.085797Z"
        },
        "id": "799dYjAvQt_q",
        "colab": {
          "base_uri": "https://localhost:8080/"
        },
        "outputId": "a5b911f5-87ca-4102-a072-ba0598ffe6d2"
      },
      "outputs": [
        {
          "output_type": "stream",
          "name": "stdout",
          "text": [
            "Accuracy of Airplane : 76 %\n",
            "Accuracy of   Car : 79 %\n",
            "Accuracy of  Bird : 65 %\n",
            "Accuracy of   Cat : 52 %\n",
            "Accuracy of  Deer : 65 %\n",
            "Accuracy of   Dog : 59 %\n",
            "Accuracy of  Frog : 80 %\n",
            "Accuracy of Horse : 70 %\n",
            "Accuracy of  Ship : 86 %\n",
            "Accuracy of Truck : 74 %\n"
          ]
        }
      ],
      "source": [
        "## Testing classification accuracy for individual classes. -- also it is useful if you want it\n",
        "class_correct = list(0. for i in range(10))\n",
        "class_total = list(0. for i in range(10))\n",
        "with torch.no_grad():\n",
        "    for data in testloader:\n",
        "        images, labels = data[0].to(device), data[1].to(device)\n",
        "        outputs = net(images)\n",
        "        _, predicted = torch.max(outputs, 1)\n",
        "        c = (predicted == labels).squeeze()\n",
        "        for i in range(4):\n",
        "            label = labels[i]\n",
        "            class_correct[label] += c[i].item()\n",
        "            class_total[label] += 1\n",
        "\n",
        "for i in range(10):\n",
        "    print('Accuracy of %5s : %2d %%' % (\n",
        "        classes[i], 100 * class_correct[i] / class_total[i]))"
      ]
    }
  ],
  "metadata": {
    "accelerator": "GPU",
    "colab": {
      "collapsed_sections": [],
      "machine_shape": "hm",
      "name": "ResNet_CIFAR.ipynb",
      "provenance": []
    },
    "kernelspec": {
      "display_name": "Python 3 (ipykernel)",
      "language": "python",
      "name": "python3"
    },
    "language_info": {
      "codemirror_mode": {
        "name": "ipython",
        "version": 3
      },
      "file_extension": ".py",
      "mimetype": "text/x-python",
      "name": "python",
      "nbconvert_exporter": "python",
      "pygments_lexer": "ipython3",
      "version": "3.8.12"
    }
  },
  "nbformat": 4,
  "nbformat_minor": 5
}